{
 "cells": [
  {
   "cell_type": "markdown",
   "metadata": {
    "colab_type": "text",
    "id": "v8Qpqf2LrzuI"
   },
   "source": [
    "# Recommender System using Collaborative Filtering\n",
    "\n",
    "1. Install surprise package\n",
    "2. Read the jokes dataset, check the shape and sample of the dataset\n",
    "3. Read the ratings dataset, check the shape and sample of the dataset\n",
    "4. Convert ratings data into surprise data frame format\n",
    "5. Define the similarity parameters and the algorithm for finding similar users\n",
    "6. Check the results using the crossvalidation\n",
    "7. Get the train and test data from surprise data frame and fit the model on train data\n",
    "8. Get the predictions on test data\n",
    "9. Write a function to get top 10 predictions for each user\n",
    "10. Using the top predictions matrix map the jokes to understand the recommendations"
   ]
  },
  {
   "cell_type": "markdown",
   "metadata": {},
   "source": [
    "# Attributes Description\n",
    "#### Jokes Dataset\n",
    "1.ItemID - ID of each Item\n",
    "\n",
    "2.Joke - Description of each Joke\n",
    "\n",
    "#### Ratings Dataset\n",
    "1.UserID - ID of each User\n",
    "\n",
    "2.ItemID - ID of each Item\n",
    "\n",
    "3.Rating - Rating for each joke ranging from [-10,10]"
   ]
  },
  {
   "cell_type": "markdown",
   "metadata": {
    "colab_type": "text",
    "id": "B8oNgROzrzuM"
   },
   "source": [
    "### Surprise is a python package used to make recommender systems\n",
    "http://surpriselib.com/\n",
    "<br>https://github.com/NicolasHug/Surprise\n",
    "<br>http://surprise.readthedocs.io/en/stable/index.html"
   ]
  },
  {
   "cell_type": "markdown",
   "metadata": {
    "colab_type": "text",
    "id": "Ub_D4kJ2rzuN"
   },
   "source": [
    "#### 1. Install surprise package"
   ]
  },
  {
   "cell_type": "code",
   "execution_count": 4,
   "metadata": {
    "colab": {
     "base_uri": "https://localhost:8080/",
     "height": 275
    },
    "colab_type": "code",
    "executionInfo": {
     "elapsed": 39274,
     "status": "ok",
     "timestamp": 1582903056705,
     "user": {
      "displayName": "Ananda Koushik Komanduri",
      "photoUrl": "",
      "userId": "03425389508636399757"
     },
     "user_tz": -330
    },
    "id": "A7011blurzuO",
    "outputId": "5e906207-d335-45b1-e74a-d91f66e6678d",
    "scrolled": true
   },
   "outputs": [],
   "source": [
    "#### Install surprise package\n",
    "#!pip install scikit-surprise"
   ]
  },
  {
   "cell_type": "code",
   "execution_count": 5,
   "metadata": {
    "colab": {},
    "colab_type": "code",
    "id": "yG6ZQZmtrzuT"
   },
   "outputs": [],
   "source": [
    "from surprise.model_selection import train_test_split\n",
    "from surprise import BaselineOnly\n",
    "from surprise import Dataset\n",
    "from surprise import Reader, KNNWithMeans\n",
    "from surprise.model_selection import cross_validate\n",
    "import pandas as pd"
   ]
  },
  {
   "cell_type": "markdown",
   "metadata": {
    "colab_type": "text",
    "id": "1FFzXMmIrzuX"
   },
   "source": [
    "#### 2. Read the jokes dataset, check the shape and sample of the dataset\n",
    "\n",
    "##### Jokes Dataset\n",
    "http://eigentaste.berkeley.edu/dataset/\n",
    "<br>140 Jokes\n",
    "<br>59132 Users\n",
    "<br>Reading jokes files\n",
    "<br>Note - Data is tab seperated"
   ]
  },
  {
   "cell_type": "code",
   "execution_count": 6,
   "metadata": {
    "colab": {
     "base_uri": "https://localhost:8080/",
     "height": 34
    },
    "colab_type": "code",
    "executionInfo": {
     "elapsed": 1102,
     "status": "ok",
     "timestamp": 1582903200069,
     "user": {
      "displayName": "Ananda Koushik Komanduri",
      "photoUrl": "",
      "userId": "03425389508636399757"
     },
     "user_tz": -330
    },
    "id": "Bwdg0hEdrzuY",
    "outputId": "1aa1a0ce-7b4e-4bf0-d3bf-e08c6303991e"
   },
   "outputs": [
    {
     "data": {
      "text/plain": [
       "(150, 2)"
      ]
     },
     "execution_count": 6,
     "metadata": {},
     "output_type": "execute_result"
    }
   ],
   "source": [
    "jokes = pd.read_csv(\"jester_items.tsv\",sep=\"\\t\",names=[\"ItemID\",\"Joke\"])\n",
    "jokes.shape"
   ]
  },
  {
   "cell_type": "code",
   "execution_count": 7,
   "metadata": {
    "colab": {
     "base_uri": "https://localhost:8080/",
     "height": 204
    },
    "colab_type": "code",
    "executionInfo": {
     "elapsed": 630,
     "status": "ok",
     "timestamp": 1582903201396,
     "user": {
      "displayName": "Ananda Koushik Komanduri",
      "photoUrl": "",
      "userId": "03425389508636399757"
     },
     "user_tz": -330
    },
    "id": "0ZzJE4JBrzud",
    "outputId": "3081c00c-9136-4a1b-9daa-c32523512f41"
   },
   "outputs": [
    {
     "data": {
      "text/html": [
       "<div>\n",
       "<style scoped>\n",
       "    .dataframe tbody tr th:only-of-type {\n",
       "        vertical-align: middle;\n",
       "    }\n",
       "\n",
       "    .dataframe tbody tr th {\n",
       "        vertical-align: top;\n",
       "    }\n",
       "\n",
       "    .dataframe thead th {\n",
       "        text-align: right;\n",
       "    }\n",
       "</style>\n",
       "<table border=\"1\" class=\"dataframe\">\n",
       "  <thead>\n",
       "    <tr style=\"text-align: right;\">\n",
       "      <th></th>\n",
       "      <th>ItemID</th>\n",
       "      <th>Joke</th>\n",
       "    </tr>\n",
       "  </thead>\n",
       "  <tbody>\n",
       "    <tr>\n",
       "      <th>0</th>\n",
       "      <td>1:</td>\n",
       "      <td>A man visits the doctor. The doctor says, \"I h...</td>\n",
       "    </tr>\n",
       "    <tr>\n",
       "      <th>1</th>\n",
       "      <td>2:</td>\n",
       "      <td>This couple had an excellent relationship goin...</td>\n",
       "    </tr>\n",
       "    <tr>\n",
       "      <th>2</th>\n",
       "      <td>3:</td>\n",
       "      <td>Q. What's 200 feet long and has 4 teeth? A. Th...</td>\n",
       "    </tr>\n",
       "    <tr>\n",
       "      <th>3</th>\n",
       "      <td>4:</td>\n",
       "      <td>Q. What's the difference between a man and a t...</td>\n",
       "    </tr>\n",
       "    <tr>\n",
       "      <th>4</th>\n",
       "      <td>5:</td>\n",
       "      <td>Q. What's O. J. Simpson's web address? A. Slas...</td>\n",
       "    </tr>\n",
       "  </tbody>\n",
       "</table>\n",
       "</div>"
      ],
      "text/plain": [
       "  ItemID                                               Joke\n",
       "0     1:  A man visits the doctor. The doctor says, \"I h...\n",
       "1     2:  This couple had an excellent relationship goin...\n",
       "2     3:  Q. What's 200 feet long and has 4 teeth? A. Th...\n",
       "3     4:  Q. What's the difference between a man and a t...\n",
       "4     5:  Q. What's O. J. Simpson's web address? A. Slas..."
      ]
     },
     "execution_count": 7,
     "metadata": {},
     "output_type": "execute_result"
    }
   ],
   "source": [
    "jokes.head()"
   ]
  },
  {
   "cell_type": "code",
   "execution_count": 8,
   "metadata": {
    "colab": {
     "base_uri": "https://localhost:8080/",
     "height": 181
    },
    "colab_type": "code",
    "executionInfo": {
     "elapsed": 1544,
     "status": "error",
     "timestamp": 1582957884214,
     "user": {
      "displayName": "Ananda Koushik Komanduri",
      "photoUrl": "",
      "userId": "03425389508636399757"
     },
     "user_tz": -330
    },
    "id": "Kqr_O46Arzuh",
    "outputId": "af3c5fed-c27d-4381-8c4e-b6985858e830"
   },
   "outputs": [
    {
     "data": {
      "text/plain": [
       "(1761439, 3)"
      ]
     },
     "execution_count": 8,
     "metadata": {},
     "output_type": "execute_result"
    }
   ],
   "source": [
    "# Read the ratings dataset\n",
    "ratings = pd.read_csv(\"jester_ratings.csv\")\n",
    "ratings.shape"
   ]
  },
  {
   "cell_type": "code",
   "execution_count": 9,
   "metadata": {
    "colab": {},
    "colab_type": "code",
    "id": "sIpd93N9tn7o"
   },
   "outputs": [],
   "source": [
    "import io\n",
    "ratings = pd.read_csv('jester_ratings.csv',sep=',')"
   ]
  },
  {
   "cell_type": "code",
   "execution_count": 10,
   "metadata": {
    "colab": {
     "base_uri": "https://localhost:8080/",
     "height": 164
    },
    "colab_type": "code",
    "executionInfo": {
     "elapsed": 666,
     "status": "error",
     "timestamp": 1582957926159,
     "user": {
      "displayName": "Ananda Koushik Komanduri",
      "photoUrl": "",
      "userId": "03425389508636399757"
     },
     "user_tz": -330
    },
    "id": "UIr9JRn-pQJI",
    "outputId": "1e7a3ac9-a1ee-4991-def1-33a7eb61a692"
   },
   "outputs": [
    {
     "data": {
      "text/html": [
       "<div>\n",
       "<style scoped>\n",
       "    .dataframe tbody tr th:only-of-type {\n",
       "        vertical-align: middle;\n",
       "    }\n",
       "\n",
       "    .dataframe tbody tr th {\n",
       "        vertical-align: top;\n",
       "    }\n",
       "\n",
       "    .dataframe thead th {\n",
       "        text-align: right;\n",
       "    }\n",
       "</style>\n",
       "<table border=\"1\" class=\"dataframe\">\n",
       "  <thead>\n",
       "    <tr style=\"text-align: right;\">\n",
       "      <th></th>\n",
       "      <th>UserID</th>\n",
       "      <th>ItemID</th>\n",
       "      <th>Rating</th>\n",
       "    </tr>\n",
       "  </thead>\n",
       "  <tbody>\n",
       "    <tr>\n",
       "      <th>0</th>\n",
       "      <td>1</td>\n",
       "      <td>5</td>\n",
       "      <td>0.219</td>\n",
       "    </tr>\n",
       "    <tr>\n",
       "      <th>1</th>\n",
       "      <td>1</td>\n",
       "      <td>7</td>\n",
       "      <td>-9.281</td>\n",
       "    </tr>\n",
       "    <tr>\n",
       "      <th>2</th>\n",
       "      <td>1</td>\n",
       "      <td>8</td>\n",
       "      <td>-9.281</td>\n",
       "    </tr>\n",
       "    <tr>\n",
       "      <th>3</th>\n",
       "      <td>1</td>\n",
       "      <td>13</td>\n",
       "      <td>-6.781</td>\n",
       "    </tr>\n",
       "    <tr>\n",
       "      <th>4</th>\n",
       "      <td>1</td>\n",
       "      <td>15</td>\n",
       "      <td>0.875</td>\n",
       "    </tr>\n",
       "  </tbody>\n",
       "</table>\n",
       "</div>"
      ],
      "text/plain": [
       "   UserID  ItemID  Rating\n",
       "0       1       5   0.219\n",
       "1       1       7  -9.281\n",
       "2       1       8  -9.281\n",
       "3       1      13  -6.781\n",
       "4       1      15   0.875"
      ]
     },
     "execution_count": 10,
     "metadata": {},
     "output_type": "execute_result"
    }
   ],
   "source": [
    "ratings.head()"
   ]
  },
  {
   "cell_type": "code",
   "execution_count": 11,
   "metadata": {
    "colab": {},
    "colab_type": "code",
    "id": "LWV68WHMrzup"
   },
   "outputs": [],
   "source": [
    "# ratings = ratings[ratings['ItemID']!=150]"
   ]
  },
  {
   "cell_type": "code",
   "execution_count": 12,
   "metadata": {
    "colab": {
     "base_uri": "https://localhost:8080/",
     "height": 164
    },
    "colab_type": "code",
    "executionInfo": {
     "elapsed": 1033,
     "status": "error",
     "timestamp": 1582957906343,
     "user": {
      "displayName": "Ananda Koushik Komanduri",
      "photoUrl": "",
      "userId": "03425389508636399757"
     },
     "user_tz": -330
    },
    "id": "l605p95nrzut",
    "outputId": "83bd7313-727f-4fa0-d141-4c52aab182f0",
    "scrolled": true
   },
   "outputs": [
    {
     "data": {
      "text/plain": [
       "0          0.219\n",
       "1         -9.281\n",
       "2         -9.281\n",
       "3         -6.781\n",
       "4          0.875\n",
       "           ...  \n",
       "1761434   -8.531\n",
       "1761435   -9.062\n",
       "1761436   -9.031\n",
       "1761437   -8.656\n",
       "1761438   -8.438\n",
       "Name: Rating, Length: 1761439, dtype: float64"
      ]
     },
     "execution_count": 12,
     "metadata": {},
     "output_type": "execute_result"
    }
   ],
   "source": [
    "ratings['Rating']"
   ]
  },
  {
   "cell_type": "code",
   "execution_count": 13,
   "metadata": {
    "colab": {
     "base_uri": "https://localhost:8080/",
     "height": 51
    },
    "colab_type": "code",
    "executionInfo": {
     "elapsed": 1485,
     "status": "ok",
     "timestamp": 1582902628455,
     "user": {
      "displayName": "Ananda Koushik Komanduri",
      "photoUrl": "",
      "userId": "03425389508636399757"
     },
     "user_tz": -330
    },
    "id": "Intlh-Furzuw",
    "outputId": "61cc08ea-51b8-46d7-e66d-9cb4d04ad24a"
   },
   "outputs": [
    {
     "name": "stdout",
     "output_type": "stream",
     "text": [
      "59132\n",
      "140\n"
     ]
    }
   ],
   "source": [
    "print(ratings.UserID.nunique())\n",
    "print(ratings.ItemID.nunique())"
   ]
  },
  {
   "cell_type": "markdown",
   "metadata": {
    "colab_type": "text",
    "id": "uxYKoD8przu0"
   },
   "source": [
    "#### 3. Read the ratings dataset, check the shape and sample of the dataset\n",
    "\n",
    "Defining the parser to read data into surprise dataframe\n",
    "\n",
    "The parser requires the scale of ratings, and the columns, to be mentioned using rating_scale and line_format\n",
    "\n",
    "Limit to 1000 users, to avoid the memory error."
   ]
  },
  {
   "cell_type": "code",
   "execution_count": 14,
   "metadata": {},
   "outputs": [
    {
     "data": {
      "text/plain": [
       "UserID    0\n",
       "ItemID    0\n",
       "Rating    0\n",
       "dtype: int64"
      ]
     },
     "execution_count": 14,
     "metadata": {},
     "output_type": "execute_result"
    }
   ],
   "source": [
    "ratings.isnull().sum()"
   ]
  },
  {
   "cell_type": "code",
   "execution_count": 15,
   "metadata": {
    "colab": {},
    "colab_type": "code",
    "id": "1CBwzy0Drzu1"
   },
   "outputs": [],
   "source": [
    "no_of_users = 1000\n",
    "reader = Reader(line_format = 'user item rating', rating_scale=(-10, 10))\n",
    "data = Dataset.load_from_df(ratings[ratings.UserID < no_of_users], reader)"
   ]
  },
  {
   "cell_type": "code",
   "execution_count": 16,
   "metadata": {
    "colab": {
     "base_uri": "https://localhost:8080/",
     "height": 34
    },
    "colab_type": "code",
    "executionInfo": {
     "elapsed": 919,
     "status": "ok",
     "timestamp": 1582903225091,
     "user": {
      "displayName": "Ananda Koushik Komanduri",
      "photoUrl": "",
      "userId": "03425389508636399757"
     },
     "user_tz": -330
    },
    "id": "c5wmHWBbrzu4",
    "outputId": "b8d8e459-999a-4a0f-cfb2-259b55a318c5",
    "scrolled": true
   },
   "outputs": [
    {
     "data": {
      "text/plain": [
       "<surprise.reader.Reader at 0x1ea32536208>"
      ]
     },
     "execution_count": 16,
     "metadata": {},
     "output_type": "execute_result"
    }
   ],
   "source": [
    "reader"
   ]
  },
  {
   "cell_type": "markdown",
   "metadata": {
    "colab_type": "text",
    "id": "NyXJmItprzu7"
   },
   "source": [
    "#### 5. Define the similarity parameters and the algorithm for finding similar users\n",
    "\n",
    "-  Algorithm Type\n",
    "-  User-Based vs Item-Based\n",
    "-  Similarity Metric"
   ]
  },
  {
   "cell_type": "code",
   "execution_count": 17,
   "metadata": {
    "colab": {},
    "colab_type": "code",
    "id": "hCsquL47rzu8"
   },
   "outputs": [],
   "source": [
    "sim_parameters = {'name': 'cosine',\n",
    "               'user_based': True \n",
    "               }\n",
    "algo = KNNWithMeans(sim_options=sim_parameters)"
   ]
  },
  {
   "cell_type": "markdown",
   "metadata": {
    "colab_type": "text",
    "id": "JYOAJS53rzu_"
   },
   "source": [
    "#### 6. Check the results using the crossvalidation"
   ]
  },
  {
   "cell_type": "code",
   "execution_count": 18,
   "metadata": {
    "colab": {
     "base_uri": "https://localhost:8080/",
     "height": 544
    },
    "colab_type": "code",
    "executionInfo": {
     "elapsed": 17030,
     "status": "ok",
     "timestamp": 1582903257642,
     "user": {
      "displayName": "Ananda Koushik Komanduri",
      "photoUrl": "",
      "userId": "03425389508636399757"
     },
     "user_tz": -330
    },
    "id": "jyFOve9ErzvA",
    "outputId": "1648f8aa-38d5-4acc-c8e3-884406e54e04"
   },
   "outputs": [
    {
     "name": "stdout",
     "output_type": "stream",
     "text": [
      "Computing the cosine similarity matrix...\n"
     ]
    },
    {
     "name": "stderr",
     "output_type": "stream",
     "text": [
      "C:\\ProgramData\\Anaconda3\\lib\\site-packages\\surprise\\prediction_algorithms\\algo_base.py:249: RuntimeWarning: invalid value encountered in double_scalars\n",
      "  sim = construction_func[name](*args)\n"
     ]
    },
    {
     "name": "stdout",
     "output_type": "stream",
     "text": [
      "Done computing similarity matrix.\n",
      "Computing the cosine similarity matrix...\n",
      "Done computing similarity matrix.\n",
      "Computing the cosine similarity matrix...\n",
      "Done computing similarity matrix.\n",
      "Computing the cosine similarity matrix...\n",
      "Done computing similarity matrix.\n",
      "Computing the cosine similarity matrix...\n",
      "Done computing similarity matrix.\n",
      "Evaluating RMSE, MAE of algorithm KNNWithMeans on 5 split(s).\n",
      "\n",
      "                  Fold 1  Fold 2  Fold 3  Fold 4  Fold 5  Mean    Std     \n",
      "RMSE (testset)    4.7444  4.7240  4.6653  4.6626  4.7534  4.7099  0.0387  \n",
      "MAE (testset)     3.6675  3.6814  3.6106  3.6007  3.6651  3.6451  0.0328  \n",
      "Fit time          3.27    3.85    3.66    3.20    3.51    3.50    0.24    \n",
      "Test time         5.84    6.31    6.51    5.09    6.47    6.04    0.53    \n"
     ]
    },
    {
     "data": {
      "text/plain": [
       "{'test_rmse': array([4.74443227, 4.72395723, 4.66528202, 4.66261971, 4.75338973]),\n",
       " 'test_mae': array([3.66747096, 3.68144292, 3.61063631, 3.60066338, 3.66509454]),\n",
       " 'fit_time': (3.2729222774505615,\n",
       "  3.8500406742095947,\n",
       "  3.6551997661590576,\n",
       "  3.204378604888916,\n",
       "  3.510737419128418),\n",
       " 'test_time': (5.837331533432007,\n",
       "  6.3142335414886475,\n",
       "  6.508704662322998,\n",
       "  5.0894858837127686,\n",
       "  6.473183870315552)}"
      ]
     },
     "execution_count": 18,
     "metadata": {},
     "output_type": "execute_result"
    }
   ],
   "source": [
    "cross_validate(algo, data, measures=['RMSE', 'MAE'], cv=5, verbose=True)"
   ]
  },
  {
   "cell_type": "markdown",
   "metadata": {
    "colab_type": "text",
    "id": "FtCw8GNCrzvD"
   },
   "source": [
    "#### 7. Get the train and test data from surprise data frame and fit the model on train data"
   ]
  },
  {
   "cell_type": "code",
   "execution_count": 19,
   "metadata": {
    "colab": {},
    "colab_type": "code",
    "id": "-b1xtR1yrzvE"
   },
   "outputs": [],
   "source": [
    "trainset,testset=train_test_split(data, test_size=0.2, train_size=None, random_state=2, shuffle=True)"
   ]
  },
  {
   "cell_type": "code",
   "execution_count": 20,
   "metadata": {
    "colab": {
     "base_uri": "https://localhost:8080/",
     "height": 102
    },
    "colab_type": "code",
    "executionInfo": {
     "elapsed": 1728,
     "status": "ok",
     "timestamp": 1582903275126,
     "user": {
      "displayName": "Ananda Koushik Komanduri",
      "photoUrl": "",
      "userId": "03425389508636399757"
     },
     "user_tz": -330
    },
    "id": "zLdp5CDSrzvI",
    "outputId": "a9d11b1a-0275-425b-c771-d584038229e7"
   },
   "outputs": [
    {
     "name": "stdout",
     "output_type": "stream",
     "text": [
      "Computing the cosine similarity matrix...\n",
      "Done computing similarity matrix.\n"
     ]
    },
    {
     "data": {
      "text/plain": [
       "<surprise.prediction_algorithms.knns.KNNWithMeans at 0x1ea33839bc8>"
      ]
     },
     "execution_count": 20,
     "metadata": {},
     "output_type": "execute_result"
    }
   ],
   "source": [
    "algo.fit(trainset)"
   ]
  },
  {
   "cell_type": "markdown",
   "metadata": {
    "colab_type": "text",
    "id": "7vIUvtblrzvN"
   },
   "source": [
    "#### 8. Get the predictions on test data"
   ]
  },
  {
   "cell_type": "code",
   "execution_count": 21,
   "metadata": {
    "colab": {
     "base_uri": "https://localhost:8080/",
     "height": 102
    },
    "colab_type": "code",
    "executionInfo": {
     "elapsed": 3502,
     "status": "ok",
     "timestamp": 1582903305057,
     "user": {
      "displayName": "Ananda Koushik Komanduri",
      "photoUrl": "",
      "userId": "03425389508636399757"
     },
     "user_tz": -330
    },
    "id": "ETy6S6MFrzvO",
    "outputId": "799f5d6f-be40-4e25-95ef-d67d3efee59e"
   },
   "outputs": [
    {
     "data": {
      "text/plain": [
       "[Prediction(uid=622, iid=83, r_ui=-1.188, est=1.3413544760923704, details={'actual_k': 40, 'was_impossible': False}),\n",
       " Prediction(uid=480, iid=36, r_ui=4.156000000000001, est=6.399464763098445, details={'actual_k': 40, 'was_impossible': False}),\n",
       " Prediction(uid=906, iid=42, r_ui=4.625, est=5.610506671169506, details={'actual_k': 40, 'was_impossible': False}),\n",
       " Prediction(uid=477, iid=145, r_ui=2.656, est=4.326816640538945, details={'actual_k': 40, 'was_impossible': False}),\n",
       " Prediction(uid=733, iid=8, r_ui=-9.281, est=0.21443455848723286, details={'actual_k': 40, 'was_impossible': False})]"
      ]
     },
     "execution_count": 21,
     "metadata": {},
     "output_type": "execute_result"
    }
   ],
   "source": [
    "# Making predictions\n",
    "predictions = algo.test(testset)\n",
    "predictions[0:5]"
   ]
  },
  {
   "cell_type": "markdown",
   "metadata": {
    "colab_type": "text",
    "id": "LDLYGVkprzvR"
   },
   "source": [
    "#### 9. Write a function to get top 10 predictions for each user"
   ]
  },
  {
   "cell_type": "code",
   "execution_count": 22,
   "metadata": {
    "colab": {
     "base_uri": "https://localhost:8080/",
     "height": 1000
    },
    "colab_type": "code",
    "executionInfo": {
     "elapsed": 1013,
     "status": "ok",
     "timestamp": 1582903336408,
     "user": {
      "displayName": "Ananda Koushik Komanduri",
      "photoUrl": "",
      "userId": "03425389508636399757"
     },
     "user_tz": -330
    },
    "id": "XAU7vFhSrzvS",
    "outputId": "38e305c7-c43e-405b-8688-281b4dfbb0ab"
   },
   "outputs": [
    {
     "data": {
      "text/plain": [
       "[(622,\n",
       "  [(89, 3.2192991462467355),\n",
       "   (72, 2.744928360095321),\n",
       "   (62, 2.6703384170331605),\n",
       "   (17, 2.2109015185909042),\n",
       "   (125, 2.1402138846147127),\n",
       "   (76, 2.099499388468058),\n",
       "   (56, 1.6955801784261726),\n",
       "   (19, 1.510386634732813),\n",
       "   (96, 1.5053301479332688),\n",
       "   (48, 1.425263289288179)]),\n",
       " (480,\n",
       "  [(127, 8.21836772948193),\n",
       "   (69, 7.831504273524685),\n",
       "   (27, 7.5636859057434735),\n",
       "   (125, 6.647414819624372),\n",
       "   (83, 6.459269221610307),\n",
       "   (36, 6.399464763098445),\n",
       "   (29, 6.389544153084129),\n",
       "   (46, 5.405092629763846),\n",
       "   (19, 5.235586829779129),\n",
       "   (20, 3.082423927613045)]),\n",
       " (906,\n",
       "  [(114, 7.057774466423564),\n",
       "   (127, 6.839700163847821),\n",
       "   (105, 6.810843963903291),\n",
       "   (76, 6.480870860019048),\n",
       "   (88, 6.3891084088111985),\n",
       "   (62, 6.359450157036237),\n",
       "   (108, 6.304242546709937),\n",
       "   (128, 6.239523922390229),\n",
       "   (104, 6.138594053723148),\n",
       "   (137, 5.950909013569359)]),\n",
       " (477,\n",
       "  [(62, 5.76124037570184),\n",
       "   (114, 5.628313761277091),\n",
       "   (27, 5.394703325683908),\n",
       "   (69, 5.389834301770315),\n",
       "   (117, 5.031172077982956),\n",
       "   (53, 4.9394965433909634),\n",
       "   (108, 4.851363596747058),\n",
       "   (91, 4.641992326685179),\n",
       "   (83, 4.588530334596124),\n",
       "   (72, 4.543076180833596)]),\n",
       " (733,\n",
       "  [(138, 3.033807878090518),\n",
       "   (142, 2.766073243564036),\n",
       "   (8, 0.21443455848723286)]),\n",
       " (927,\n",
       "  [(93, 3.86444494280026),\n",
       "   (126, 3.4686696006840085),\n",
       "   (87, 3.351653484309125),\n",
       "   (72, 2.965572052235729),\n",
       "   (66, 2.956218137977526),\n",
       "   (121, 2.7236567274594625),\n",
       "   (83, 2.4580849508489058),\n",
       "   (135, 2.082552998321862),\n",
       "   (95, 2.05486395355309),\n",
       "   (94, 1.8133459794138818)]),\n",
       " (421,\n",
       "  [(113, -4.823343153345915),\n",
       "   (49, -5.357665167941233),\n",
       "   (78, -5.649836618525059),\n",
       "   (19, -5.794470504251759),\n",
       "   (8, -6.12260658656174),\n",
       "   (103, -6.159035316840628),\n",
       "   (21, -6.199259889347493),\n",
       "   (116, -6.265207532795827),\n",
       "   (16, -6.606725129696767),\n",
       "   (25, -6.632878181928837)]),\n",
       " (308,\n",
       "  [(35, 6.679687702318347),\n",
       "   (106, 5.583242250753152),\n",
       "   (47, 5.53245584773701),\n",
       "   (76, 5.453014297427334),\n",
       "   (92, 4.967118997316138),\n",
       "   (56, 4.921902339304241),\n",
       "   (70, 4.7612062197605045),\n",
       "   (96, 4.518835330609414),\n",
       "   (46, 4.2894652616554),\n",
       "   (25, 4.139495973508647)]),\n",
       " (54,\n",
       "  [(93, 7.688364078512198),\n",
       "   (89, 7.682911582103716),\n",
       "   (27, 7.399228593873067),\n",
       "   (46, 7.011441569690664),\n",
       "   (70, 6.9209357159314795),\n",
       "   (48, 6.715798389839107),\n",
       "   (26, 6.6993007876920565),\n",
       "   (49, 6.600649630334926),\n",
       "   (45, 6.569970797101602),\n",
       "   (68, 6.3715388747176025)]),\n",
       " (837,\n",
       "  [(89, 1.4623634427004342),\n",
       "   (21, -0.0374372326397423),\n",
       "   (102, -0.03804055280151264),\n",
       "   (47, -0.9434040399840495),\n",
       "   (147, -0.9456836610382116),\n",
       "   (109, -1.1857096926664143),\n",
       "   (55, -1.5700415623842623),\n",
       "   (128, -1.637897312970511),\n",
       "   (136, -1.6568037177665484),\n",
       "   (112, -1.759628490525275)])]"
      ]
     },
     "execution_count": 22,
     "metadata": {},
     "output_type": "execute_result"
    }
   ],
   "source": [
    "# Fetching top 10 predictions for each user\n",
    "from collections import defaultdict\n",
    "def get_top_n(predictions, n=10):\n",
    "    '''Return the top-N recommendation for each user from a set of predictions.\n",
    "\n",
    "    Args:\n",
    "        predictions(list of Prediction objects): The list of predictions, as\n",
    "            returned by the test method of an algorithm.\n",
    "        n(int): The number of recommendation to output for each user. Default\n",
    "            is 10.\n",
    "\n",
    "    Returns:\n",
    "    A dict where keys are user (raw) ids and values are lists of tuples:\n",
    "        [(raw item id, rating estimation), ...] of size n.\n",
    "    '''\n",
    "\n",
    "    # First map the predictions to each user.\n",
    "    top_n = defaultdict(list)\n",
    "    for uid, iid, true_r, est, _ in predictions:\n",
    "        top_n[uid].append((iid, est))\n",
    "\n",
    "    # Then sort the predictions for each user and retrieve the k highest ones.\n",
    "    for uid, user_ratings in top_n.items():\n",
    "        user_ratings.sort(key=lambda x: x[1], reverse=True)\n",
    "        top_n[uid] = user_ratings[:n]\n",
    "\n",
    "    return top_n\n",
    "\n",
    "from itertools import islice\n",
    "\n",
    "def take(n, iterable):\n",
    "    \"Return first n items of the iterable as a list\"\n",
    "    return list(islice(iterable, n))\n",
    "\n",
    "top_n = get_top_n(predictions, n=10)\n",
    "take(10, top_n.items())"
   ]
  },
  {
   "cell_type": "markdown",
   "metadata": {
    "colab_type": "text",
    "collapsed": true,
    "id": "lDn_ThR6rzvV"
   },
   "source": [
    "##### Top Predictions Matrix"
   ]
  },
  {
   "cell_type": "code",
   "execution_count": 23,
   "metadata": {
    "colab": {
     "base_uri": "https://localhost:8080/",
     "height": 187
    },
    "colab_type": "code",
    "executionInfo": {
     "elapsed": 1085,
     "status": "ok",
     "timestamp": 1582903355253,
     "user": {
      "displayName": "Ananda Koushik Komanduri",
      "photoUrl": "",
      "userId": "03425389508636399757"
     },
     "user_tz": -330
    },
    "id": "KZF-nk9NrzvV",
    "outputId": "1ddcbc71-b2b0-493a-cc50-335921f7a1a4",
    "scrolled": true
   },
   "outputs": [
    {
     "name": "stdout",
     "output_type": "stream",
     "text": [
      "622 [89, 72, 62, 17, 125, 76, 56, 19, 96, 48]\n",
      "480 [127, 69, 27, 125, 83, 36, 29, 46, 19, 20]\n",
      "906 [114, 127, 105, 76, 88, 62, 108, 128, 104, 137]\n",
      "477 [62, 114, 27, 69, 117, 53, 108, 91, 83, 72]\n",
      "733 [138, 142, 8]\n",
      "927 [93, 126, 87, 72, 66, 121, 83, 135, 95, 94]\n",
      "421 [113, 49, 78, 19, 8, 103, 21, 116, 16, 25]\n",
      "308 [35, 106, 47, 76, 92, 56, 70, 96, 46, 25]\n",
      "54 [93, 89, 27, 46, 70, 48, 26, 49, 45, 68]\n",
      "837 [89, 21, 102, 47, 147, 109, 55, 128, 136, 112]\n"
     ]
    }
   ],
   "source": [
    "# Printing top predictions\n",
    "for uid, user_ratings in take(10,top_n.items()):\n",
    "    print(uid, [iid for (iid, _) in user_ratings])"
   ]
  },
  {
   "cell_type": "markdown",
   "metadata": {
    "colab_type": "text",
    "id": "vKN3av5HrzvZ"
   },
   "source": [
    "#### 10. Using the top predictions matrix map the jokes to understand the recommendations\n",
    "\n",
    "##### Top Jokes for each User"
   ]
  },
  {
   "cell_type": "code",
   "execution_count": 30,
   "metadata": {
    "colab": {
     "base_uri": "https://localhost:8080/",
     "height": 1000
    },
    "colab_type": "code",
    "executionInfo": {
     "elapsed": 1181,
     "status": "ok",
     "timestamp": 1582903360327,
     "user": {
      "displayName": "Ananda Koushik Komanduri",
      "photoUrl": "",
      "userId": "03425389508636399757"
     },
     "user_tz": -330
    },
    "id": "L6yXk0rorzva",
    "outputId": "b462c57d-a830-487b-c560-1b20ee530f81",
    "scrolled": false
   },
   "outputs": [
    {
     "name": "stdout",
     "output_type": "stream",
     "text": [
      "***********************************\n",
      "For User: 622 Top Recommendations:\n",
      "***********************************\n",
      "\n",
      "JokeID : 89 , Joke is : Q: How many programmers does it take to change a lightbulb? A: NONE! That's a hardware problem...\n",
      "\n",
      "\n",
      "JokeID : 72 , Joke is : Q: What is the difference between George Washington, Richard Nixon, and Bill Clinton? A: Washington couldn't tell a lie, Nixon couldn't tell the truth, and Clinton doesn't know the difference.\n",
      "\n",
      "\n",
      "JokeID : 62 , Joke is : An engineer, a physicist and a mathematician are sleeping in a room. There is a fire in the room. The engineer wakes up, sees the fire, picks up the bucket of water and douses the fire and goes back to sleep. Again there is a fire in the room. This time, the physicist wakes up, notices the bucket, fills it with water, calculates the optimal trajectory and douses the fire in minimum amount of water and goes back to sleep. Again there is a fire. This time the mathematician wakes up. He looks at the fire, looks at the bucket and the water and exclaims, \"A solution exists!\" and goes back to sleep.\n",
      "\n",
      "\n",
      "JokeID : 17 , Joke is : A dog walks into Western Union and asks the clerk to send a telegram. He fills out a form on which he writes down the telegram he wishes to send: \"Bow wow wow, bow wow wow.\" The clerk says, \"You can add another 'Bow wow' for the same price.\" The dog responded, \"Now wouldn't that sound a little silly?\"\n",
      "\n",
      "\n",
      "JokeID : 125 , Joke is : A Briton, a Frenchman and a Russian are viewing a painting of Adam and Eve frolicking in the Garden of Eden. \"Look at their reserve, their calm,\" muses the Brit. \"They must be British.\" \"Nonsense,\" the Frenchman disagrees. \"They're naked, and so beautiful. Clearly, they are French.\" \"No way! They have no clothes and no shelter,\" the Russian points out, \"They have only an apple to eat, and they are being told they live in a paradise. Obviously, they are Russian.\"\n",
      "\n",
      "\n",
      "JokeID : 76 , Joke is : If pro- is the opposite of con-, then congress must be the opposite of progress.\n",
      "\n",
      "\n",
      "JokeID : 56 , Joke is : Why are there so many Jones's in the phone book? Because they all have phones.\n",
      "\n",
      "\n",
      "JokeID : 19 , Joke is : What's the difference between a Macintosh and an Etch-a-Sketch? You don't have to shake the Mac to clear the screen.\n",
      "\n",
      "\n",
      "JokeID : 96 , Joke is : A teacher is explaining to her class how different languages use negatives differently. She says, \"In all languages, a positive followed by a negative or a negative followed by a positive makes a negative. In some languages, two negatives together make a positive, while in others they make a negative. But in no language do two positives make a negative.\" One of the students puts up his hand and says, \"Yeah, right.\"\n",
      "\n",
      "\n",
      "JokeID : 48 , Joke is : Three engineering students were gathered together discussing the possible designers of the human body. One said, \"It was a mechanical engineer. Just look at all the joints.\" Another said, \"No, it was an electrical engineer. The nervous systems many thousands of electrical connections.\" The last said, \"Actually, it was a civil engineer. Who else would run a toxic waste pipeline through a recreational area?\"\n",
      "\n",
      "***********************************\n",
      "For User: 480 Top Recommendations:\n",
      "***********************************\n",
      "\n",
      "JokeID : 127 , Joke is : An American, a Scot and a Canadian were in a terrible car accident. They were all brought to the same emergency room, but all three of them died before they arrived. Just as they were about to put the toe tag on the American, he stirred and opened his eyes. Astonished, the doctors and nurses present asked him what happened. \"Well,\" said the American, \"I remember the crash, and then there was a beautiful light, and then the Canadian and the Scot and I were standing at the gate s of heaven. St. Peter approached us and said that we were all to young to die, and that for a donation of $50, we could return to earth. So of course I pulled out my wallet and gave him the $50, and the next thing I knew I was back here.\" \"That's amazing!\" said the one of the doctors, \"But what happened to the other two?\" \"Last I saw them,\" replied the American, \"the Scot was haggling over the price and the Canadian was waiting for the government to pay his.\"\n",
      "\n",
      "\n",
      "JokeID : 69 , Joke is : Employer to applicant: \"In this job we need someone who is responsible.\" Applicant: \"I'm the one you want. On my last job, every time anything went wrong, they said I was responsible.\"\n",
      "\n",
      "\n",
      "JokeID : 27 , Joke is : A mechanical engineer, an electrical engineer, and a software engineer from Microsoft were driving through the desert when the car broke down. The mechanical engineer said: \"It seems to be a problem with the fuel injection system, why don't we pop the hood and I'll take a look at it?\" To which the electrical engineer replied, \"No, I think it's just a loose ground wire, I'll get out and take a look.\" Then the software engineer from Microsoft jumps in. \"No, no, no. If we just close up all the windows, get out, wait a few minutes, get back in, and then reopen the windows everything will work fine.\"\n",
      "\n",
      "\n",
      "JokeID : 125 , Joke is : A Briton, a Frenchman and a Russian are viewing a painting of Adam and Eve frolicking in the Garden of Eden. \"Look at their reserve, their calm,\" muses the Brit. \"They must be British.\" \"Nonsense,\" the Frenchman disagrees. \"They're naked, and so beautiful. Clearly, they are French.\" \"No way! They have no clothes and no shelter,\" the Russian points out, \"They have only an apple to eat, and they are being told they live in a paradise. Obviously, they are Russian.\"\n",
      "\n",
      "\n",
      "JokeID : 83 , Joke is : Q: What is the difference between mechanical engineers and civil engineers? A: Mechanical Engineers build weapons, civil engineers build targets.\n",
      "\n",
      "\n",
      "JokeID : 36 , Joke is : A Jewish young man was seeing a psychiatrist for an eating and sleeping disorder. \"I am so obsessed with my mother...As soon as I go to sleep, I start dreaming, and everyone in my dream turns into my mother. I wake up in such a state, and all I can do is go downstairs and eat a piece of toast.\" The psychiatrist replies, \"What, just one piece of toast, for a big boy like you?\"\n",
      "\n",
      "\n",
      "JokeID : 29 , Joke is : Q: What's the difference between a lawyer and a plumber? A: A plumber works to unclog the system.\n",
      "\n",
      "\n",
      "JokeID : 46 , Joke is : There was an engineer who had an exceptional gift for fixing all things mechanical. After serving his company loyally for over 30 years, he happily retired. Several years later the company contacted him regarding a seemingly impossible problem they were having with one of their multi-million dollar machines. They had tried everything and everyone else to get the machine fixed, but to no avail. In desperation, they called on the retired engineer who had solved so many of their problems in the past. The engineer reluctantly took the challenge. He spent a day studying the huge machine. At the end of the day, he marked a small \"x\" in chalk on a particular component of the machine and proudly stated: \"This is where your problem is.\" The part was replaced and the machine worked perfectly again. The company received a bill for $50,000 from the engineer for his service. They demanded an itemized accounting of his charges. The engineer responded briefly: One chalk mark: $1. Knowing where to put it: $49,999. He was paid in full and the engineer retired again in peace.\n",
      "\n",
      "\n",
      "JokeID : 19 , Joke is : What's the difference between a Macintosh and an Etch-a-Sketch? You don't have to shake the Mac to clear the screen.\n",
      "\n",
      "\n",
      "JokeID : 20 , Joke is : What's the difference between a used tire and 365 used condoms? One's a Goodyear, the other's a great year.\n",
      "\n",
      "***********************************\n",
      "For User: 906 Top Recommendations:\n",
      "***********************************\n",
      "\n",
      "JokeID : 114 , Joke is : A lady bought a new Lexus. It cost a bundle. Two days later, she brought it back, complaining that the radio was not working. \"Madam,\" said the sales manager, \"the audio system in this car is completely automatic. All you need to do is tell it what you want to listen to, and you will hear exactly that!\" She drove out, somewhat amazed and a little confused. She looked at the radio and said, \"Nelson.\" The radio responded, \"Ricky or Willie?\" She was astounded. If she wanted Beethoven, that's what she got. If she wanted Nat King Cole, she got it. She was stopped at a traffic light enjoying \"On the Road Again\" when the light turned green and she pulled out. Suddenly an enormous sports utility vehicle coming from the street she was crossing sped toward her, obviously not paying attention to the light. She swerved and narrowly missed a collision. \"Idiot!\" she yelled and, from the radio, \"Ladies and gentlemen, the President of the United States.\"\n",
      "\n",
      "\n",
      "JokeID : 127 , Joke is : An American, a Scot and a Canadian were in a terrible car accident. They were all brought to the same emergency room, but all three of them died before they arrived. Just as they were about to put the toe tag on the American, he stirred and opened his eyes. Astonished, the doctors and nurses present asked him what happened. \"Well,\" said the American, \"I remember the crash, and then there was a beautiful light, and then the Canadian and the Scot and I were standing at the gate s of heaven. St. Peter approached us and said that we were all to young to die, and that for a donation of $50, we could return to earth. So of course I pulled out my wallet and gave him the $50, and the next thing I knew I was back here.\" \"That's amazing!\" said the one of the doctors, \"But what happened to the other two?\" \"Last I saw them,\" replied the American, \"the Scot was haggling over the price and the Canadian was waiting for the government to pay his.\"\n",
      "\n",
      "\n",
      "JokeID : 105 , Joke is : An engineer dies and reports to the pearly gates. St. Peter checks his dossier and says, \"Ah, you''re an engineer--you're in the wrong place.\" So, the engineer reports to the gates of hell and is let in. Pretty soon, the engineer gets dissatisfied with the level of comfort in hell, and starts designing and building improvements. After awhile, they've got air conditioning, flush toilets and escalators, and the engineer is a pretty popular guy. One day, God calls Satan up on the telephone and says with a sneer, \"So, how's it going down there in hell?\" Satan replies, \"Hey, things are going great. We've got air conditioning, flush toilets and escalators, and there's no telling what this engineer is going to come up with next.\" God replies, \"What?? You've got an engineer? That's a mistake--he should never have gotten down there; send him up here.\" Satan says, \"No way.\" I like having an engineer on the staff, and I'm keeping him.\" God says, \"Send him back up here or I'll sue.\" Satan laughs uproariously and answers, \"Yeah, right. And just where are YOU going to get a lawyer?\"\n",
      "\n",
      "\n",
      "JokeID : 76 , Joke is : If pro- is the opposite of con-, then congress must be the opposite of progress.\n",
      "\n",
      "\n",
      "JokeID : 88 , Joke is : A radio conversation between a US naval ship and Canadian authorities... Americans: Please divert your course 15 degrees to the North to avoid a collision. Canadians: Recommend you divert YOUR course 15 degrees to the South to avoid a collision. Americans: This is the captain of a US Navy ship. I say again, divert YOUR course. Canadians: No. I say again, you divert YOUR course. Americans: This is the aircraft carrier USS Lincoln, the second largest ship in the United States' Atlantic Fleet. We are accompanied by three destroyers, three cruisers and numerous support vessels. I demand that you change your course 15 degrees North, that's ONE FIVE DEGREES NORTH, or counter-measures will be undertaken to ensure the safety of this ship. Canadians: This is a lighthouse. Your call.\n",
      "\n",
      "\n",
      "JokeID : 62 , Joke is : An engineer, a physicist and a mathematician are sleeping in a room. There is a fire in the room. The engineer wakes up, sees the fire, picks up the bucket of water and douses the fire and goes back to sleep. Again there is a fire in the room. This time, the physicist wakes up, notices the bucket, fills it with water, calculates the optimal trajectory and douses the fire in minimum amount of water and goes back to sleep. Again there is a fire. This time the mathematician wakes up. He looks at the fire, looks at the bucket and the water and exclaims, \"A solution exists!\" and goes back to sleep.\n",
      "\n",
      "\n",
      "JokeID : 108 , Joke is : Do you believe in life after death? the boss asked one of his employees. \"Yes, sir,\" the new recruit replied. \"Well, then, that makes everything just fine...\" the boss went on. \"After you left early yesterday to go to your grandmother's funeral, she stopped in to see you.\"\n",
      "\n",
      "\n",
      "JokeID : 128 , Joke is : A group of girlfriends is on vacation when they see a 5-story hotel with a sign that reads: \"For Women Only.\" Since they are without their boyfriends and husbands, they decide to go in. The bouncer, a very attractive guy, explains to them how it works. \"We have 5 floors. Go up floor by floor, and once you find what you are looking for, you can stay there. It's easy to decide since each floor has a sign telling you what's inside.\" So they start going up and on the first floor the sign reads: \"All the men on this floor are short and plain.\" The friends laugh and without hesitation move on to the next floor. The sign on the second floor reads: \"All the men here are short and handsome.\" Still, this isn't good enough, so the friends continue on up. They reach the third floor and the sign reads: \"All the men here are tall and plain.\" They still want to do better, and so, knowing there are still two floors left, they continued on up. On the fourth floor, the sign is perfect: \"All the men here are tall and handsome.\" The women get all excited and are going in when they realize that there is still one floor left. Wondering what they are missing, they head on up to the fifth floor. There they find a sign that reads: \"There are no men here. This floor was built only to prove that there is no way to please a woman.\"\n",
      "\n",
      "\n",
      "JokeID : 104 , Joke is : A couple of hunters are out in the woods in the deep south when one of them falls to the ground. He doesn't seem to be breathing, and his eyes are rolled back in his head. The other guy whips out his cell phone and calls 911. He gasps to the operator, \"My friend is dead! What can I do?\" The operator, in a calm and soothing voice, says, \"Alright, take it easy. I can help. First, let's make sure he's dead.\" There is silence, and then a gun shot is heard. The hunter comes back on the line. \"Okay. Now what??\"\n",
      "\n",
      "\n",
      "JokeID : 137 , Joke is : WASHINGTON (Reuters) - A tragic fire on Monday destroyed the personal library of President George W. Bush. Both of his books have been lost. Presidential spokesman Ari Fleischer said the president was devastated, as he had not finished coloring the second one.\n",
      "\n",
      "***********************************\n",
      "For User: 477 Top Recommendations:\n",
      "***********************************\n",
      "\n",
      "JokeID : 62 , Joke is : An engineer, a physicist and a mathematician are sleeping in a room. There is a fire in the room. The engineer wakes up, sees the fire, picks up the bucket of water and douses the fire and goes back to sleep. Again there is a fire in the room. This time, the physicist wakes up, notices the bucket, fills it with water, calculates the optimal trajectory and douses the fire in minimum amount of water and goes back to sleep. Again there is a fire. This time the mathematician wakes up. He looks at the fire, looks at the bucket and the water and exclaims, \"A solution exists!\" and goes back to sleep.\n",
      "\n",
      "\n",
      "JokeID : 114 , Joke is : A lady bought a new Lexus. It cost a bundle. Two days later, she brought it back, complaining that the radio was not working. \"Madam,\" said the sales manager, \"the audio system in this car is completely automatic. All you need to do is tell it what you want to listen to, and you will hear exactly that!\" She drove out, somewhat amazed and a little confused. She looked at the radio and said, \"Nelson.\" The radio responded, \"Ricky or Willie?\" She was astounded. If she wanted Beethoven, that's what she got. If she wanted Nat King Cole, she got it. She was stopped at a traffic light enjoying \"On the Road Again\" when the light turned green and she pulled out. Suddenly an enormous sports utility vehicle coming from the street she was crossing sped toward her, obviously not paying attention to the light. She swerved and narrowly missed a collision. \"Idiot!\" she yelled and, from the radio, \"Ladies and gentlemen, the President of the United States.\"\n",
      "\n",
      "\n",
      "JokeID : 27 , Joke is : A mechanical engineer, an electrical engineer, and a software engineer from Microsoft were driving through the desert when the car broke down. The mechanical engineer said: \"It seems to be a problem with the fuel injection system, why don't we pop the hood and I'll take a look at it?\" To which the electrical engineer replied, \"No, I think it's just a loose ground wire, I'll get out and take a look.\" Then the software engineer from Microsoft jumps in. \"No, no, no. If we just close up all the windows, get out, wait a few minutes, get back in, and then reopen the windows everything will work fine.\"\n",
      "\n",
      "\n",
      "JokeID : 69 , Joke is : Employer to applicant: \"In this job we need someone who is responsible.\" Applicant: \"I'm the one you want. On my last job, every time anything went wrong, they said I was responsible.\"\n",
      "\n",
      "\n",
      "JokeID : 117 , Joke is : A man goes into a drug store and asks the pharmacist if he can give him something for the hiccups. The pharmacist promptly reaches out and slaps the man's face. \"What the heck did you do that for?!\" the man screams. \"Well, you don't have the hiccups anymore, do you?\" The man says, \"No I don't, you IDIOT...but my wife out in the car still does!\"\n",
      "\n",
      "\n",
      "JokeID : 53 , Joke is : The Pope dies and, naturally, goes to heaven. He's met by the reception committee, and after a whirlwind tour he is told that he can enjoy any of the myriad of recreations available. He decides that he wants to read all of the ancient original text of the Holy Scriptures, so he spends the next eon or so learning languages. After becoming a linguistic master, he sits down in the library and begins to pour over every version of the Bible, working back from most recent \"Easy Reading\" to the original script. All of a sudden there is a scream in the library. The angels come running in only to find the Pope huddled in his chair, crying to himself and muttering, \"An 'R'! The scribes left out the 'R'!\" A particularly concerned angel takes him aside, and offering comfort, asks him what the problem is and what he means. After collecting his wits, the Pope sobs again, \"It's the letter 'R'. They left out the 'R'. The word was supposed to be 'CELEBRATE'!\"\n",
      "\n",
      "\n",
      "JokeID : 108 , Joke is : Do you believe in life after death? the boss asked one of his employees. \"Yes, sir,\" the new recruit replied. \"Well, then, that makes everything just fine...\" the boss went on. \"After you left early yesterday to go to your grandmother's funeral, she stopped in to see you.\"\n",
      "\n",
      "\n",
      "JokeID : 91 , Joke is : Early one morning a mother went to her sleeping son and woke him up. \"Wake up, son. It's time to go to school.\" \"But why, Mama? I don't want to go to school.\" \"Give me two reasons why you don't want to go to school.\" \"One, all the children hate me. Two, all the teachers hate me.\" \"Oh, that's no reason. Come on, you have to go to school.\" \"Give me two good reasons why I should go to school.\" \"One, you are fifty-two years old. Two, you are the principal of the school.\"\n",
      "\n",
      "\n",
      "JokeID : 83 , Joke is : Q: What is the difference between mechanical engineers and civil engineers? A: Mechanical Engineers build weapons, civil engineers build targets.\n",
      "\n",
      "\n",
      "JokeID : 72 , Joke is : Q: What is the difference between George Washington, Richard Nixon, and Bill Clinton? A: Washington couldn't tell a lie, Nixon couldn't tell the truth, and Clinton doesn't know the difference.\n",
      "\n",
      "***********************************\n",
      "For User: 733 Top Recommendations:\n",
      "***********************************\n",
      "\n",
      "JokeID : 138 , Joke is : In a Veteran's Day speech, President Bush vowed, \"We will finish the mission. Period.\" Afterwards, he was advised that he doesn't have to read the punctuation marks.\n",
      "\n",
      "\n",
      "JokeID : 142 , Joke is : A preist, a 12-year-old kid, and the smartest guy in the world are on a plane. The pilot screams, \"The plane is going down! You have to jump!\" He then grabs a parachute and jumps off, leaving only two more parachutes on the plane. The smartest guy in the world says, \"I have to go. I mean, I'm the smartest guy in the world!\" He grabs a parachute, and jumps. The priest then looks at the 12-year-old kid, and says, \"Go, my son. You have a long life to live.\" The kid calmly responds: \"Dude, chill. We'll be fine. The 'smartest guy in the world' took my backpack.\"\n",
      "\n",
      "\n",
      "JokeID : 8 , Joke is : A country guy goes into a city bar that has a dress code, and the maitre d' demands he wear a tie. Discouraged, the guy goes to his car to sulk when inspiration strikes: He's got jumper cables in the trunk! So he wraps them around his neck, sort of like a string tie (a bulky string tie to be sure) and returns to the bar. The maitre d' is reluctant, but says to the guy, \"Okay, you're a pretty resourceful fellow, you can come in... but just don't start anything!\"\n",
      "\n",
      "***********************************\n",
      "For User: 927 Top Recommendations:\n",
      "***********************************\n",
      "\n",
      "JokeID : 93 , Joke is : Two atoms are walking down the street when one atom says to the other, \"Oh, my! I've lost an electron!\" The second atom says, \"Are you sure?\" The first replies, \"I'm positive!\"\n",
      "\n",
      "\n",
      "JokeID : 126 , Joke is : A little boy goes to his dad and asks, \"What is politics?\" His dad says, \"Well son, let me try to explain it this way: I'm the breadwinner of the family, so let's call me capitalism. Your Mom, she's the administrator of the money, so we'll call her the government. We're here to take care of your needs, so we'll call you the people. The nanny, we'll consider her the working class. And your baby brother, we'll call him the future. Now, think about that and see if that makes sense.\" So the little boy goes off to bed thinking about what dad had said. Later that night, he hears his baby brother crying, so he gets up to check on him. He finds that the baby has severely soiled his diaper. So the little boy goes to his parents' room and finds his mother sound asleep. Not wanting to wake her, he goes to the nanny's room. Finding the door locked, he peeks in the keyhole and sees his father in bed with the nanny. He gives up and goes back to bed. The next morning, the little boy says to his father, \"Dad, I think I understand the concept of politics now.\" The father says, \"Good, son. Tell me in your own words what you think politics is all about.\" The little boy replies, \"Well, while capitalism is screwing the working class, the government is sound asleep, the people are being ignored and the future is in deep shit.\"\n",
      "\n",
      "\n",
      "JokeID : 87 , Joke is : A Czechoslovakian man felt his eyesight was growing steadily worse, and felt it was time to go see an optometrist. The doctor started with some simple testing, and showed him a standard eye chart with letters of diminishing size: CRKBNWXSKZY... \"Can you read this?\" the doctor asked. \"Read it?\" the Czech answered. \"Doc, I know him!\"\n",
      "\n",
      "\n",
      "JokeID : 72 , Joke is : Q: What is the difference between George Washington, Richard Nixon, and Bill Clinton? A: Washington couldn't tell a lie, Nixon couldn't tell the truth, and Clinton doesn't know the difference.\n",
      "\n",
      "\n",
      "JokeID : 66 , Joke is : Once upon a time, two brooms fell in love and decided to get married. Before the ceremony, the bride broom informed the groom broom that she was expecting a little whiskbroom. The groom broom was aghast! \"How is this possible?\" he asked. \"We've never swept together!\"\n",
      "\n",
      "\n",
      "JokeID : 121 , Joke is : An astronomer, a physicist and a mathematician (it is said) were holidaying in Scotland. Glancing from a train window, they observed a black sheep in the middle of a field. \"How interesting,\" observed the astronomer, \"All Scottish sheep are black!\" To which the physicist responded, \"No, no! Some Scottish sheep are black!\" The mathematician gazed heavenward in supplication, and then intoned, \"In Scotland there exists at least one field, containing at least one sheep, at least one side of which is black.\"\n",
      "\n",
      "\n",
      "JokeID : 83 , Joke is : Q: What is the difference between mechanical engineers and civil engineers? A: Mechanical Engineers build weapons, civil engineers build targets.\n",
      "\n",
      "\n",
      "JokeID : 135 , Joke is : A man went to apply for a job. After filling out all of his applications, he waited anxiously for the outcome. The employer read all his applications and said, \"We have an opening for people like you.\" \"Oh, great,\" he said. \"What is it?\" \"It's called the door!\"\n",
      "\n",
      "\n",
      "JokeID : 95 , Joke is : Two attorneys went into a diner and ordered two drinks. Then they produced sandwiches from their briefcases and started to eat. The owner became quite concerned and marched over and told them, \"You can't eat your own sandwiches in here!\" The attorneys looked at each other, shrugged their shoulders and then exchanged sandwiches.\n",
      "\n",
      "\n",
      "JokeID : 94 , Joke is : Just a thought... Before criticizing someone, walk a mile in their shoes. Then, when you do criticize them, you will be a mile away and have their shoes!\n",
      "\n",
      "***********************************\n",
      "For User: 421 Top Recommendations:\n",
      "***********************************\n",
      "\n",
      "JokeID : 113 , Joke is : Sherlock Holmes and Dr. Watson go on a camping trip, set up their tent, and fall asleep. Some hours later, Holmes wakes his faithful friend. \"Watson, look up at the sky and tell me what you see.\" Watson replies, \"I see millions of stars.\" \"What does that tell you?\" Watson ponders for a minute. \"Astronomically speaking, it tells me that there are millions of galaxies and potentially billions of planets. Astrologically, it tells me that Saturn is in Leo. Timewise, it appears to be approximately a quarter past three. Theologically, it's evident the Lord is all-powerful and we are small and insignificant. Meteorologically, it seems we will have a beautiful day tomorrow. What does it tell you?\" Holmes is silent for a moment, then speaks. \"Watson, you idiot, someone has stolen our tent.\"\n",
      "\n",
      "\n",
      "JokeID : 49 , Joke is : A guy goes into confession and says to the priest, \"Father, I'm 80 years old, widower, with 11 grandchildren. Last night I met two beautiful flight attendants. They took me home and I made love to both of them. Twice.\" The priest says, \"Well, my son, when was the last time you were in confession?\" \"Never Father, I'm Jewish.\" \"So then, why are you telling me?\" \"I'm telling everybody!\"\n",
      "\n",
      "\n",
      "JokeID : 78 , Joke is : Q: Ever wonder why the IRS calls it Form 1040? A: Because for every $50 that you earn, you get 10 and they get 40.\n",
      "\n",
      "\n",
      "JokeID : 19 , Joke is : What's the difference between a Macintosh and an Etch-a-Sketch? You don't have to shake the Mac to clear the screen.\n",
      "\n",
      "\n",
      "JokeID : 8 , Joke is : A country guy goes into a city bar that has a dress code, and the maitre d' demands he wear a tie. Discouraged, the guy goes to his car to sulk when inspiration strikes: He's got jumper cables in the trunk! So he wraps them around his neck, sort of like a string tie (a bulky string tie to be sure) and returns to the bar. The maitre d' is reluctant, but says to the guy, \"Okay, you're a pretty resourceful fellow, you can come in... but just don't start anything!\"\n",
      "\n",
      "\n",
      "JokeID : 103 , Joke is : As a pre-med student, I had to take a difficult class in physics. One day our professor was discussing a particularly complicated concept. A student rudely interrupted to ask, \"Why do we have to learn this stuff?\" \"To save lives.\" The professor responded quickly and continued the lecture. A few minutes later, the same student spoke up again. \"So how does physics save lives?\" he persisted. \"It usually keeps the idiots like you out of medical school,\" replied the professor.\n",
      "\n",
      "\n",
      "JokeID : 21 , Joke is : A duck walks into a pharmacy and asks for a condom. The pharmacist asks, \"Would you like me to stick that on your bill?\" The duck says: \"What kind of duck do you think I am!\"\n",
      "\n",
      "\n",
      "JokeID : 116 , Joke is : A man joins a big corporate empire as a trainee. On his very first day of work, he dials the pantry and shouts into the phone: \"Get me a coffee, quickly!\" The voice from the other side responds, \"You fool, you've dialed the wrong extension! Do you know who you're talking to, dumbo?\" \"No,\" replied the trainee. \"It's the CEO of the company, you fool!\" The trainee shouts back, \"And do YOU know who YOU are talking to, you fool?!\" \"No.\" replied the CEO indignantly. \"Good!\" replied the trainee, and puts down the phone.\n",
      "\n",
      "\n",
      "JokeID : 16 , Joke is : How many men does it take to screw in a light bulb? One. Men will screw anything.\n",
      "\n",
      "\n",
      "JokeID : 25 , Joke is : A guy walks into a bar and sits down next to an extremely gorgeous woman. The first thing he notices about her though, are her pants. They were skin-tight, high-waisted and had no obvious mechanism (zipper, buttons or velcro) for opening them. After several minutes of puzzling over how she got the pants up over her hips, he finally worked up the nerve to ask her. \"Excuse me miss, but how do you get into your pants?\" \"Well,\" she replied, \"you can start by buying me a drink.\"\n",
      "\n",
      "***********************************\n",
      "For User: 308 Top Recommendations:\n",
      "***********************************\n",
      "\n",
      "JokeID : 35 , Joke is : A guy walks into a bar, orders a beer and says to the bartender, \"Hey, I got this great Polish Joke...\" The barkeep glares at him and says in a warning tone of voice: \"Before you go telling that joke you better know that I'm Polish, both bouncers are Polish and so are most of my customers.\" \"Okay,\" says the customer. \"I'll tell it very slowly.\"\n",
      "\n",
      "\n",
      "JokeID : 106 , Joke is : (A) The Japanese eat very little fat and suffer fewer heart attacks than the British or Americans. (B) On the other hand, the French eat a lot of fat and also suffer fewer heart attacks than the British or Americans. (C) The Chinese drink very little red wine and suffer fewer heart attacks than the British or Americans. (D) The Italians drink excessive amounts of red wine and also suffer fewer heart attacks than the British or Americans. (E) Conclusion: Eat and drink what you like. It's speaking English that kills you.\n",
      "\n",
      "\n",
      "JokeID : 47 , Joke is : The graduate with a Science degree asks, \"Why does it work?\" The graduate with an Engineering degree asks, \"How does it work?\" The graduate with an Accounting degree Asks, \"How much will it cost?\" The graduate with a Liberal Arts degree asks, \"Do you want fries with that?\"\n",
      "\n",
      "\n",
      "JokeID : 76 , Joke is : If pro- is the opposite of con-, then congress must be the opposite of progress.\n",
      "\n",
      "\n",
      "JokeID : 92 , Joke is : Reaching the end of a job interview, the human resources person asked a young engineer fresh out of Stanford, \"And what starting salary were you looking for?\" The engineer said, \"In the neighborhood of $125,000 a year, depending on the benefits package.\" The interviewer said, \"Well, what would you say to a package of 5-weeks vacation, 14 paid holidays, full medical and dental, company matching retirement fund to 50% of salary, and a company car leased every 2 years--say, a red Corvette?\" The engineer sat up straight and said, \"Wow! Are you kidding?\" And the interviewer replied, \"Yeah, but you started it.\"\n",
      "\n",
      "\n",
      "JokeID : 56 , Joke is : Why are there so many Jones's in the phone book? Because they all have phones.\n",
      "\n",
      "\n",
      "JokeID : 70 , Joke is : At a recent Sacramento PC Users Group meeting, a company was demonstrating its latest speech- recognition software. A representative from the company was just about ready to start the demonstration and asked everyone in the room to quiet down. Just then, someone in the back of the room yelled, \"Format C: Return.\" Someone else chimed in: \"Yes, Return.\" Unfortunately, the software worked.\n",
      "\n",
      "\n",
      "JokeID : 96 , Joke is : A teacher is explaining to her class how different languages use negatives differently. She says, \"In all languages, a positive followed by a negative or a negative followed by a positive makes a negative. In some languages, two negatives together make a positive, while in others they make a negative. But in no language do two positives make a negative.\" One of the students puts up his hand and says, \"Yeah, right.\"\n",
      "\n",
      "\n",
      "JokeID : 46 , Joke is : There was an engineer who had an exceptional gift for fixing all things mechanical. After serving his company loyally for over 30 years, he happily retired. Several years later the company contacted him regarding a seemingly impossible problem they were having with one of their multi-million dollar machines. They had tried everything and everyone else to get the machine fixed, but to no avail. In desperation, they called on the retired engineer who had solved so many of their problems in the past. The engineer reluctantly took the challenge. He spent a day studying the huge machine. At the end of the day, he marked a small \"x\" in chalk on a particular component of the machine and proudly stated: \"This is where your problem is.\" The part was replaced and the machine worked perfectly again. The company received a bill for $50,000 from the engineer for his service. They demanded an itemized accounting of his charges. The engineer responded briefly: One chalk mark: $1. Knowing where to put it: $49,999. He was paid in full and the engineer retired again in peace.\n",
      "\n",
      "\n",
      "JokeID : 25 , Joke is : A guy walks into a bar and sits down next to an extremely gorgeous woman. The first thing he notices about her though, are her pants. They were skin-tight, high-waisted and had no obvious mechanism (zipper, buttons or velcro) for opening them. After several minutes of puzzling over how she got the pants up over her hips, he finally worked up the nerve to ask her. \"Excuse me miss, but how do you get into your pants?\" \"Well,\" she replied, \"you can start by buying me a drink.\"\n",
      "\n",
      "***********************************\n",
      "For User: 54 Top Recommendations:\n",
      "***********************************\n",
      "\n",
      "JokeID : 93 , Joke is : Two atoms are walking down the street when one atom says to the other, \"Oh, my! I've lost an electron!\" The second atom says, \"Are you sure?\" The first replies, \"I'm positive!\"\n",
      "\n",
      "\n",
      "JokeID : 89 , Joke is : Q: How many programmers does it take to change a lightbulb? A: NONE! That's a hardware problem...\n",
      "\n",
      "\n",
      "JokeID : 27 , Joke is : A mechanical engineer, an electrical engineer, and a software engineer from Microsoft were driving through the desert when the car broke down. The mechanical engineer said: \"It seems to be a problem with the fuel injection system, why don't we pop the hood and I'll take a look at it?\" To which the electrical engineer replied, \"No, I think it's just a loose ground wire, I'll get out and take a look.\" Then the software engineer from Microsoft jumps in. \"No, no, no. If we just close up all the windows, get out, wait a few minutes, get back in, and then reopen the windows everything will work fine.\"\n",
      "\n",
      "\n",
      "JokeID : 46 , Joke is : There was an engineer who had an exceptional gift for fixing all things mechanical. After serving his company loyally for over 30 years, he happily retired. Several years later the company contacted him regarding a seemingly impossible problem they were having with one of their multi-million dollar machines. They had tried everything and everyone else to get the machine fixed, but to no avail. In desperation, they called on the retired engineer who had solved so many of their problems in the past. The engineer reluctantly took the challenge. He spent a day studying the huge machine. At the end of the day, he marked a small \"x\" in chalk on a particular component of the machine and proudly stated: \"This is where your problem is.\" The part was replaced and the machine worked perfectly again. The company received a bill for $50,000 from the engineer for his service. They demanded an itemized accounting of his charges. The engineer responded briefly: One chalk mark: $1. Knowing where to put it: $49,999. He was paid in full and the engineer retired again in peace.\n",
      "\n",
      "\n",
      "JokeID : 70 , Joke is : At a recent Sacramento PC Users Group meeting, a company was demonstrating its latest speech- recognition software. A representative from the company was just about ready to start the demonstration and asked everyone in the room to quiet down. Just then, someone in the back of the room yelled, \"Format C: Return.\" Someone else chimed in: \"Yes, Return.\" Unfortunately, the software worked.\n",
      "\n",
      "\n",
      "JokeID : 48 , Joke is : Three engineering students were gathered together discussing the possible designers of the human body. One said, \"It was a mechanical engineer. Just look at all the joints.\" Another said, \"No, it was an electrical engineer. The nervous systems many thousands of electrical connections.\" The last said, \"Actually, it was a civil engineer. Who else would run a toxic waste pipeline through a recreational area?\"\n",
      "\n",
      "\n",
      "JokeID : 26 , Joke is : Bill Clinton returns from a vacation in Arkansas and walks down the steps of Air Force One with two pigs under his arms. At the bottom of the steps, he says to the honor guardsman, \"These are genuine Arkansas Razor-Back Hogs. I got this one for Chelsea and this one for Hillary.\" The guardsman replies, \"Nice trade, Sir.\"\n",
      "\n",
      "\n",
      "JokeID : 49 , Joke is : A guy goes into confession and says to the priest, \"Father, I'm 80 years old, widower, with 11 grandchildren. Last night I met two beautiful flight attendants. They took me home and I made love to both of them. Twice.\" The priest says, \"Well, my son, when was the last time you were in confession?\" \"Never Father, I'm Jewish.\" \"So then, why are you telling me?\" \"I'm telling everybody!\"\n",
      "\n",
      "\n",
      "JokeID : 45 , Joke is : A couple has been married for 75 years. For the husband's 95th birthday, his wife decides to surprise him by hiring a prostitute. That day, the doorbell rings. The husband uses his walker to get to the door and opens it. A 21-year-old in a latex outfit smiles and says, \"Hi, I here to give you super sex!\" The old man says, \"I'll take the soup.\"\n",
      "\n",
      "\n",
      "JokeID : 68 , Joke is : This guy's wife asks, \"Honey, if I died would you remarry?\" and he replies, \"Well, after a considerable period of grieving, we all need companionship, so I guess I would.\" She then asks, \"If I died and you remarried, would she live in this house?\" and he replies, \"We've spent a lot of time and money getting this house just the way we want it. I'm not going to get rid of my house, so I guess she would.\" \"If I died and you remarried, and she lived in this house, would she sleep in our bed?\" and he says, \"That bed is brand new. We just paid two thousand dollars for it, and it's going to last a long time, so I guess she would.\" So she asks, \"If I died and you remarried, and she lived in this house, and slept in our bed, would she use my golf clubs?\" \"Oh no, she's left handed.\"\n",
      "\n",
      "***********************************\n",
      "For User: 837 Top Recommendations:\n",
      "***********************************\n",
      "\n",
      "JokeID : 89 , Joke is : Q: How many programmers does it take to change a lightbulb? A: NONE! That's a hardware problem...\n",
      "\n",
      "\n",
      "JokeID : 21 , Joke is : A duck walks into a pharmacy and asks for a condom. The pharmacist asks, \"Would you like me to stick that on your bill?\" The duck says: \"What kind of duck do you think I am!\"\n",
      "\n",
      "\n",
      "JokeID : 102 , Joke is : Nurse: Doctor, Doctor, there's an invisible man in the waiting room! Doctor: Well, go in there and tell him that I can't see him!\n",
      "\n",
      "\n",
      "JokeID : 47 , Joke is : The graduate with a Science degree asks, \"Why does it work?\" The graduate with an Engineering degree asks, \"How does it work?\" The graduate with an Accounting degree Asks, \"How much will it cost?\" The graduate with a Liberal Arts degree asks, \"Do you want fries with that?\"\n",
      "\n",
      "\n",
      "JokeID : 147 , Joke is : Recently a teacher, a garbage collector, and a lawyer wound up together at the Pearly Gates. St. Peter informed them that in order to get into Heaven, they would each have to answer one question. St. Peter addressed the teacher and asked, \"What was the name of the ship that crashed into the iceberg? They just made a movie about it.\" The teacher answered quickly, \"That would be the Titanic.\" St. Peter let him through the gate. St. Peter turned to the garbage man and, figuring Heaven didn't really need all the odors that this guy would bring with him, decided to make the question a little harder: \"How many people died on the ship?\" Fortunately for him, the trash man had just seen the movie. \"1,228,\" he answered. \"That's right! You may enter.\" St. Peter turned to the lawyer: \"Name them.\"\n",
      "\n",
      "\n",
      "JokeID : 109 , Joke is : One day, a professor was giving a big test to his students. He handed out the tests and went back to his desk to wait. Once the test was over, the students all handed the tests back in. The professor noticed that one of the students had attached a $100 bill to his test with a note saying: \"A dollar per point.\" The next class the professor handed the tests back out. This student got back his test...and $64 change!\n",
      "\n",
      "\n",
      "JokeID : 55 , Joke is : A man and Cindy Crawford get stranded on a desert island. After a couple of days they fall in love and start sleeping together. Time passes and the man seems frustrated. Cindy asks if there is anything she can do, and he says there is one thing: \"Could you put on this baseball cap and go to the other side of the island and answer me when I call you Bob?\" She agrees. The next day he is walking on the other side of the island and runs into her. He says, \"Hi Bob!\" She says, \"Hello, what's up?\" He replies, \"Bob, you won't believe it: I've been sleeping with Cindy Crawford for the past two weeks!\"\n",
      "\n",
      "\n",
      "JokeID : 128 , Joke is : A group of girlfriends is on vacation when they see a 5-story hotel with a sign that reads: \"For Women Only.\" Since they are without their boyfriends and husbands, they decide to go in. The bouncer, a very attractive guy, explains to them how it works. \"We have 5 floors. Go up floor by floor, and once you find what you are looking for, you can stay there. It's easy to decide since each floor has a sign telling you what's inside.\" So they start going up and on the first floor the sign reads: \"All the men on this floor are short and plain.\" The friends laugh and without hesitation move on to the next floor. The sign on the second floor reads: \"All the men here are short and handsome.\" Still, this isn't good enough, so the friends continue on up. They reach the third floor and the sign reads: \"All the men here are tall and plain.\" They still want to do better, and so, knowing there are still two floors left, they continued on up. On the fourth floor, the sign is perfect: \"All the men here are tall and handsome.\" The women get all excited and are going in when they realize that there is still one floor left. Wondering what they are missing, they head on up to the fifth floor. There they find a sign that reads: \"There are no men here. This floor was built only to prove that there is no way to please a woman.\"\n",
      "\n",
      "\n",
      "JokeID : 136 , Joke is : Deep within a forest, a little turtle began to climb a tree. After hours of effort, he reached the top, jumped into the air waving his front legs and crashed to the ground. After recovering, he slowly climbed the tree again, jumped, and fell to the ground. The turtle tried again and again, while a couple of birds sitting on a branch watched his sad efforts. Finally, the female bird turned to her mate. \"Dear,\" she chirped, \"I think it's time to tell him he's adopted.\"\n",
      "\n",
      "\n",
      "JokeID : 112 , Joke is : The new employee stood before the paper shredder looking confused. \"Need some help?\" a secretary asked. \"Yes,\" he replied. \"How does this thing work?\" \"Simple,\" she said, taking the fat report from his hand and feeding it into the shredder. \"Thanks, but where do the copies come out?\"\n",
      "\n",
      "***********************************\n",
      "For User: 547 Top Recommendations:\n",
      "***********************************\n",
      "\n",
      "JokeID : 114 , Joke is : A lady bought a new Lexus. It cost a bundle. Two days later, she brought it back, complaining that the radio was not working. \"Madam,\" said the sales manager, \"the audio system in this car is completely automatic. All you need to do is tell it what you want to listen to, and you will hear exactly that!\" She drove out, somewhat amazed and a little confused. She looked at the radio and said, \"Nelson.\" The radio responded, \"Ricky or Willie?\" She was astounded. If she wanted Beethoven, that's what she got. If she wanted Nat King Cole, she got it. She was stopped at a traffic light enjoying \"On the Road Again\" when the light turned green and she pulled out. Suddenly an enormous sports utility vehicle coming from the street she was crossing sped toward her, obviously not paying attention to the light. She swerved and narrowly missed a collision. \"Idiot!\" she yelled and, from the radio, \"Ladies and gentlemen, the President of the United States.\"\n",
      "\n",
      "\n",
      "JokeID : 47 , Joke is : The graduate with a Science degree asks, \"Why does it work?\" The graduate with an Engineering degree asks, \"How does it work?\" The graduate with an Accounting degree Asks, \"How much will it cost?\" The graduate with a Liberal Arts degree asks, \"Do you want fries with that?\"\n",
      "\n",
      "\n",
      "JokeID : 76 , Joke is : If pro- is the opposite of con-, then congress must be the opposite of progress.\n",
      "\n",
      "\n",
      "JokeID : 68 , Joke is : This guy's wife asks, \"Honey, if I died would you remarry?\" and he replies, \"Well, after a considerable period of grieving, we all need companionship, so I guess I would.\" She then asks, \"If I died and you remarried, would she live in this house?\" and he replies, \"We've spent a lot of time and money getting this house just the way we want it. I'm not going to get rid of my house, so I guess she would.\" \"If I died and you remarried, and she lived in this house, would she sleep in our bed?\" and he says, \"That bed is brand new. We just paid two thousand dollars for it, and it's going to last a long time, so I guess she would.\" So she asks, \"If I died and you remarried, and she lived in this house, and slept in our bed, would she use my golf clubs?\" \"Oh no, she's left handed.\"\n",
      "\n",
      "\n",
      "JokeID : 54 , Joke is : A woman has twins, and gives them up for adoption. One of them goes to a family in Egypt and is named \"Amal.\" The other goes to a family in Spain; they name him \"Juan.\" Years later, Juan sends a picture of himself to his mom. Upon receiving the picture, she tells her husband that she wishes she also had a picture of Amal. Her husband responds, \"But they are twins--if you've seen Juan, you've seen Amal.\"\n",
      "\n",
      "\n",
      "JokeID : 49 , Joke is : A guy goes into confession and says to the priest, \"Father, I'm 80 years old, widower, with 11 grandchildren. Last night I met two beautiful flight attendants. They took me home and I made love to both of them. Twice.\" The priest says, \"Well, my son, when was the last time you were in confession?\" \"Never Father, I'm Jewish.\" \"So then, why are you telling me?\" \"I'm telling everybody!\"\n",
      "\n",
      "\n",
      "JokeID : 109 , Joke is : One day, a professor was giving a big test to his students. He handed out the tests and went back to his desk to wait. Once the test was over, the students all handed the tests back in. The professor noticed that one of the students had attached a $100 bill to his test with a note saying: \"A dollar per point.\" The next class the professor handed the tests back out. This student got back his test...and $64 change!\n",
      "\n",
      "\n",
      "JokeID : 38 , Joke is : What is the difference between men and women? A woman wants one man to satisfy her every need. A man wants every woman to satisfy his one need.\n",
      "\n",
      "\n",
      "JokeID : 36 , Joke is : A Jewish young man was seeing a psychiatrist for an eating and sleeping disorder. \"I am so obsessed with my mother...As soon as I go to sleep, I start dreaming, and everyone in my dream turns into my mother. I wake up in such a state, and all I can do is go downstairs and eat a piece of toast.\" The psychiatrist replies, \"What, just one piece of toast, for a big boy like you?\"\n",
      "\n",
      "\n",
      "JokeID : 116 , Joke is : A man joins a big corporate empire as a trainee. On his very first day of work, he dials the pantry and shouts into the phone: \"Get me a coffee, quickly!\" The voice from the other side responds, \"You fool, you've dialed the wrong extension! Do you know who you're talking to, dumbo?\" \"No,\" replied the trainee. \"It's the CEO of the company, you fool!\" The trainee shouts back, \"And do YOU know who YOU are talking to, you fool?!\" \"No.\" replied the CEO indignantly. \"Good!\" replied the trainee, and puts down the phone.\n",
      "\n",
      "***********************************\n",
      "For User: 575 Top Recommendations:\n",
      "***********************************\n",
      "\n",
      "JokeID : 49 , Joke is : A guy goes into confession and says to the priest, \"Father, I'm 80 years old, widower, with 11 grandchildren. Last night I met two beautiful flight attendants. They took me home and I made love to both of them. Twice.\" The priest says, \"Well, my son, when was the last time you were in confession?\" \"Never Father, I'm Jewish.\" \"So then, why are you telling me?\" \"I'm telling everybody!\"\n",
      "\n",
      "\n",
      "JokeID : 69 , Joke is : Employer to applicant: \"In this job we need someone who is responsible.\" Applicant: \"I'm the one you want. On my last job, every time anything went wrong, they said I was responsible.\"\n",
      "\n",
      "\n",
      "JokeID : 68 , Joke is : This guy's wife asks, \"Honey, if I died would you remarry?\" and he replies, \"Well, after a considerable period of grieving, we all need companionship, so I guess I would.\" She then asks, \"If I died and you remarried, would she live in this house?\" and he replies, \"We've spent a lot of time and money getting this house just the way we want it. I'm not going to get rid of my house, so I guess she would.\" \"If I died and you remarried, and she lived in this house, would she sleep in our bed?\" and he says, \"That bed is brand new. We just paid two thousand dollars for it, and it's going to last a long time, so I guess she would.\" So she asks, \"If I died and you remarried, and she lived in this house, and slept in our bed, would she use my golf clubs?\" \"Oh no, she's left handed.\"\n",
      "\n",
      "\n",
      "JokeID : 72 , Joke is : Q: What is the difference between George Washington, Richard Nixon, and Bill Clinton? A: Washington couldn't tell a lie, Nixon couldn't tell the truth, and Clinton doesn't know the difference.\n",
      "\n",
      "\n",
      "JokeID : 76 , Joke is : If pro- is the opposite of con-, then congress must be the opposite of progress.\n",
      "\n",
      "\n",
      "JokeID : 120 , Joke is : A drunk staggers into a Catholic Church, enters a confessional booth, sits down, but says nothing. The Priest coughs a few times to get his attention but the drunk just sits there. Finally, the Priest pounds three times on the wall. The drunk mumbles, \"Ain't no use knockin, there's no paper on this side either.\"\n",
      "\n",
      "\n",
      "JokeID : 36 , Joke is : A Jewish young man was seeing a psychiatrist for an eating and sleeping disorder. \"I am so obsessed with my mother...As soon as I go to sleep, I start dreaming, and everyone in my dream turns into my mother. I wake up in such a state, and all I can do is go downstairs and eat a piece of toast.\" The psychiatrist replies, \"What, just one piece of toast, for a big boy like you?\"\n",
      "\n",
      "\n",
      "JokeID : 61 , Joke is : A group of managers were given the assignment to measure the height of a flagpole. So they go out to the flagpole with ladders and tape measures, and they're falling off the ladders, dropping the tape measures--the whole thing is just a mess. An engineer comes along and sees what they're trying to do, walks over, pulls the flagpole out of the ground, lays it flat, measures it from end to end, gives the measurement to one of the managers and walks away. After the engineer has gone, one manager turns to another and laughs. \"Isn't that just like an engineer? We're looking for the height and he gives us the length.\"\n",
      "\n",
      "\n",
      "JokeID : 7 , Joke is : Q. Did you hear about the dyslexic devil worshiper? A. He sold his soul to Santa.\n",
      "\n",
      "\n",
      "JokeID : 123 , Joke is : Person 1: Hey, wanna hear a great knock-knock joke? Person 2: Sure, What is it? Person 1: Okay, you start. Person 2: Knock-knock. Person 1: Who's there? Person 2: ... Person 1: Hah!\n",
      "\n",
      "***********************************\n",
      "For User: 368 Top Recommendations:\n",
      "***********************************\n",
      "\n",
      "JokeID : 32 , Joke is : What do you call an American in the finals of the world cup? \"Hey beer man!\"\n",
      "\n",
      "\n",
      "JokeID : 96 , Joke is : A teacher is explaining to her class how different languages use negatives differently. She says, \"In all languages, a positive followed by a negative or a negative followed by a positive makes a negative. In some languages, two negatives together make a positive, while in others they make a negative. But in no language do two positives make a negative.\" One of the students puts up his hand and says, \"Yeah, right.\"\n",
      "\n",
      "\n",
      "JokeID : 65 , Joke is : A lawyer opened the door of his BMW, when suddenly a car came along and hit the door, ripping it off completely. When the police arrived at the scene, the lawyer was complaining bitterly about the damage to his precious BMW. \"Officer, look what they've done to my Beeeeemer!\" he whined. \"You lawyers are so materialistic, you make me sick!\" retorted the officer. \"You're so worried about your stupid BMW that you didn't even notice your left arm was ripped off!\" \"Oh my gaaaad...\" replied the lawyer, finally noticing the bloody left shoulder where his arm once was. \"Where's my Rolex?!\"\n",
      "\n",
      "\n",
      "JokeID : 78 , Joke is : Q: Ever wonder why the IRS calls it Form 1040? A: Because for every $50 that you earn, you get 10 and they get 40.\n",
      "\n",
      "\n",
      "JokeID : 97 , Joke is : Age and Womanhood 1. Between the ages of 13 and 18... She is like Africa, virgin and unexplored. 2. Between the ages of 19 and 35... She is like Asia, hot and exotic. 3. Between the ages of 36 and 45... She is like America, fully explored, breathtakingly beautiful, and free with her resources. 4. Between the ages of 46 and 56... She is like Europe, exhausted but still has points of interest. 5. After 56 she is like Australia... Everybody knows it's down there, but who gives a damn?\n",
      "\n",
      "\n",
      "JokeID : 48 , Joke is : Three engineering students were gathered together discussing the possible designers of the human body. One said, \"It was a mechanical engineer. Just look at all the joints.\" Another said, \"No, it was an electrical engineer. The nervous systems many thousands of electrical connections.\" The last said, \"Actually, it was a civil engineer. Who else would run a toxic waste pipeline through a recreational area?\"\n",
      "\n",
      "\n",
      "JokeID : 82 , Joke is : What a woman says: \"This place is a mess! C'mon, you and I need to clean up, your stuff is lying on the floor and you'll have no clothes to wear if we don't do laundry right now!\" What a man hears: \"blah, blah, blah, blah, C'mon blah, blah, blah, blah, you and I blah, blah, blah, blah, on the floor blah, blah, blah, blah, no clothes blah, blah, blah, blah, right now!\"\n",
      "\n",
      "\n",
      "JokeID : 95 , Joke is : Two attorneys went into a diner and ordered two drinks. Then they produced sandwiches from their briefcases and started to eat. The owner became quite concerned and marched over and told them, \"You can't eat your own sandwiches in here!\" The attorneys looked at each other, shrugged their shoulders and then exchanged sandwiches.\n",
      "\n",
      "\n",
      "JokeID : 16 , Joke is : How many men does it take to screw in a light bulb? One. Men will screw anything.\n",
      "\n",
      "\n",
      "JokeID : 20 , Joke is : What's the difference between a used tire and 365 used condoms? One's a Goodyear, the other's a great year.\n",
      "\n",
      "***********************************\n",
      "For User: 344 Top Recommendations:\n",
      "***********************************\n",
      "\n",
      "JokeID : 105 , Joke is : An engineer dies and reports to the pearly gates. St. Peter checks his dossier and says, \"Ah, you''re an engineer--you're in the wrong place.\" So, the engineer reports to the gates of hell and is let in. Pretty soon, the engineer gets dissatisfied with the level of comfort in hell, and starts designing and building improvements. After awhile, they've got air conditioning, flush toilets and escalators, and the engineer is a pretty popular guy. One day, God calls Satan up on the telephone and says with a sneer, \"So, how's it going down there in hell?\" Satan replies, \"Hey, things are going great. We've got air conditioning, flush toilets and escalators, and there's no telling what this engineer is going to come up with next.\" God replies, \"What?? You've got an engineer? That's a mistake--he should never have gotten down there; send him up here.\" Satan says, \"No way.\" I like having an engineer on the staff, and I'm keeping him.\" God says, \"Send him back up here or I'll sue.\" Satan laughs uproariously and answers, \"Yeah, right. And just where are YOU going to get a lawyer?\"\n",
      "\n",
      "\n",
      "JokeID : 114 , Joke is : A lady bought a new Lexus. It cost a bundle. Two days later, she brought it back, complaining that the radio was not working. \"Madam,\" said the sales manager, \"the audio system in this car is completely automatic. All you need to do is tell it what you want to listen to, and you will hear exactly that!\" She drove out, somewhat amazed and a little confused. She looked at the radio and said, \"Nelson.\" The radio responded, \"Ricky or Willie?\" She was astounded. If she wanted Beethoven, that's what she got. If she wanted Nat King Cole, she got it. She was stopped at a traffic light enjoying \"On the Road Again\" when the light turned green and she pulled out. Suddenly an enormous sports utility vehicle coming from the street she was crossing sped toward her, obviously not paying attention to the light. She swerved and narrowly missed a collision. \"Idiot!\" she yelled and, from the radio, \"Ladies and gentlemen, the President of the United States.\"\n",
      "\n",
      "\n",
      "JokeID : 66 , Joke is : Once upon a time, two brooms fell in love and decided to get married. Before the ceremony, the bride broom informed the groom broom that she was expecting a little whiskbroom. The groom broom was aghast! \"How is this possible?\" he asked. \"We've never swept together!\"\n",
      "\n",
      "\n",
      "JokeID : 34 , Joke is : An explorer in the deepest Amazon suddenly finds himself surrounded by a bloodthirsty group of natives. Upon surveying the situation, he says quietly to himself, \"Oh God, I'm screwed.\" The sky darkens and a voice booms out, \"No, you are NOT screwed. Pick up that stone at your feet and bash in the head of the chief standing in front of you.\" So with the stone he bashes the life out of the chief. He stands above the lifeless body, breathing heavily and looking at 100 angry natives... The voice booms out again, \"Okay....NOW you're screwed.\"\n",
      "\n",
      "\n",
      "JokeID : 93 , Joke is : Two atoms are walking down the street when one atom says to the other, \"Oh, my! I've lost an electron!\" The second atom says, \"Are you sure?\" The first replies, \"I'm positive!\"\n",
      "\n",
      "\n",
      "JokeID : 62 , Joke is : An engineer, a physicist and a mathematician are sleeping in a room. There is a fire in the room. The engineer wakes up, sees the fire, picks up the bucket of water and douses the fire and goes back to sleep. Again there is a fire in the room. This time, the physicist wakes up, notices the bucket, fills it with water, calculates the optimal trajectory and douses the fire in minimum amount of water and goes back to sleep. Again there is a fire. This time the mathematician wakes up. He looks at the fire, looks at the bucket and the water and exclaims, \"A solution exists!\" and goes back to sleep.\n",
      "\n",
      "\n",
      "JokeID : 128 , Joke is : A group of girlfriends is on vacation when they see a 5-story hotel with a sign that reads: \"For Women Only.\" Since they are without their boyfriends and husbands, they decide to go in. The bouncer, a very attractive guy, explains to them how it works. \"We have 5 floors. Go up floor by floor, and once you find what you are looking for, you can stay there. It's easy to decide since each floor has a sign telling you what's inside.\" So they start going up and on the first floor the sign reads: \"All the men on this floor are short and plain.\" The friends laugh and without hesitation move on to the next floor. The sign on the second floor reads: \"All the men here are short and handsome.\" Still, this isn't good enough, so the friends continue on up. They reach the third floor and the sign reads: \"All the men here are tall and plain.\" They still want to do better, and so, knowing there are still two floors left, they continued on up. On the fourth floor, the sign is perfect: \"All the men here are tall and handsome.\" The women get all excited and are going in when they realize that there is still one floor left. Wondering what they are missing, they head on up to the fifth floor. There they find a sign that reads: \"There are no men here. This floor was built only to prove that there is no way to please a woman.\"\n",
      "\n",
      "\n",
      "JokeID : 47 , Joke is : The graduate with a Science degree asks, \"Why does it work?\" The graduate with an Engineering degree asks, \"How does it work?\" The graduate with an Accounting degree Asks, \"How much will it cost?\" The graduate with a Liberal Arts degree asks, \"Do you want fries with that?\"\n",
      "\n",
      "\n",
      "JokeID : 39 , Joke is : How many Irishmen does it take to change a lightbulb? Two. One to hold the lightbulb and the other to drink until the room spins.\n",
      "\n",
      "\n",
      "JokeID : 87 , Joke is : A Czechoslovakian man felt his eyesight was growing steadily worse, and felt it was time to go see an optometrist. The doctor started with some simple testing, and showed him a standard eye chart with letters of diminishing size: CRKBNWXSKZY... \"Can you read this?\" the doctor asked. \"Read it?\" the Czech answered. \"Doc, I know him!\"\n",
      "\n",
      "***********************************\n",
      "For User: 801 Top Recommendations:\n",
      "***********************************\n",
      "\n",
      "JokeID : 89 , Joke is : Q: How many programmers does it take to change a lightbulb? A: NONE! That's a hardware problem...\n",
      "\n",
      "\n",
      "JokeID : 138 , Joke is : In a Veteran's Day speech, President Bush vowed, \"We will finish the mission. Period.\" Afterwards, he was advised that he doesn't have to read the punctuation marks.\n",
      "\n",
      "\n",
      "JokeID : 143 , Joke is : A man is driving in the country one evening when his car stalls and won't start. He goes up to a nearby farm house for help, and because it is suppertime he is asked to stay for supper. When he sits down at the table he notices that a pig is sitting at the table with them for supper and that the pig has a wooden leg. As they are eating and chatting, he eventually asks the farmer why the pig is there and why it has a wooden leg. \"Oh,\" says the farmer, \"that is a very special pig. Last month my wife and daughter were in the barn when it caught fire. The pig saw this, ran to the barn, tipped over a pail of water, crawled over the wet floor to reach them and pulled them out of the barn safely. A special pig like that, you just don't eat it all at once!\"\n",
      "\n",
      "\n",
      "JokeID : 106 , Joke is : (A) The Japanese eat very little fat and suffer fewer heart attacks than the British or Americans. (B) On the other hand, the French eat a lot of fat and also suffer fewer heart attacks than the British or Americans. (C) The Chinese drink very little red wine and suffer fewer heart attacks than the British or Americans. (D) The Italians drink excessive amounts of red wine and also suffer fewer heart attacks than the British or Americans. (E) Conclusion: Eat and drink what you like. It's speaking English that kills you.\n",
      "\n",
      "\n",
      "JokeID : 17 , Joke is : A dog walks into Western Union and asks the clerk to send a telegram. He fills out a form on which he writes down the telegram he wishes to send: \"Bow wow wow, bow wow wow.\" The clerk says, \"You can add another 'Bow wow' for the same price.\" The dog responded, \"Now wouldn't that sound a little silly?\"\n",
      "\n",
      "\n",
      "JokeID : 96 , Joke is : A teacher is explaining to her class how different languages use negatives differently. She says, \"In all languages, a positive followed by a negative or a negative followed by a positive makes a negative. In some languages, two negatives together make a positive, while in others they make a negative. But in no language do two positives make a negative.\" One of the students puts up his hand and says, \"Yeah, right.\"\n",
      "\n",
      "\n",
      "JokeID : 35 , Joke is : A guy walks into a bar, orders a beer and says to the bartender, \"Hey, I got this great Polish Joke...\" The barkeep glares at him and says in a warning tone of voice: \"Before you go telling that joke you better know that I'm Polish, both bouncers are Polish and so are most of my customers.\" \"Okay,\" says the customer. \"I'll tell it very slowly.\"\n",
      "\n",
      "\n",
      "JokeID : 87 , Joke is : A Czechoslovakian man felt his eyesight was growing steadily worse, and felt it was time to go see an optometrist. The doctor started with some simple testing, and showed him a standard eye chart with letters of diminishing size: CRKBNWXSKZY... \"Can you read this?\" the doctor asked. \"Read it?\" the Czech answered. \"Doc, I know him!\"\n",
      "\n",
      "\n",
      "JokeID : 126 , Joke is : A little boy goes to his dad and asks, \"What is politics?\" His dad says, \"Well son, let me try to explain it this way: I'm the breadwinner of the family, so let's call me capitalism. Your Mom, she's the administrator of the money, so we'll call her the government. We're here to take care of your needs, so we'll call you the people. The nanny, we'll consider her the working class. And your baby brother, we'll call him the future. Now, think about that and see if that makes sense.\" So the little boy goes off to bed thinking about what dad had said. Later that night, he hears his baby brother crying, so he gets up to check on him. He finds that the baby has severely soiled his diaper. So the little boy goes to his parents' room and finds his mother sound asleep. Not wanting to wake her, he goes to the nanny's room. Finding the door locked, he peeks in the keyhole and sees his father in bed with the nanny. He gives up and goes back to bed. The next morning, the little boy says to his father, \"Dad, I think I understand the concept of politics now.\" The father says, \"Good, son. Tell me in your own words what you think politics is all about.\" The little boy replies, \"Well, while capitalism is screwing the working class, the government is sound asleep, the people are being ignored and the future is in deep shit.\"\n",
      "\n",
      "\n",
      "JokeID : 131 , Joke is : Mickey Mouse is having a nasty divorce with Minnie Mouse. Mickey spoke to the judge about the separation. \"I'm sorry Mickey, but I can't legally separate you two on the grounds that Minnie is mentally insane...\" Mickey replied, \"I didn't say she was mentally insane, I said that she's fucking Goofy!\"\n",
      "\n",
      "***********************************\n",
      "For User: 956 Top Recommendations:\n",
      "***********************************\n",
      "\n",
      "JokeID : 128 , Joke is : A group of girlfriends is on vacation when they see a 5-story hotel with a sign that reads: \"For Women Only.\" Since they are without their boyfriends and husbands, they decide to go in. The bouncer, a very attractive guy, explains to them how it works. \"We have 5 floors. Go up floor by floor, and once you find what you are looking for, you can stay there. It's easy to decide since each floor has a sign telling you what's inside.\" So they start going up and on the first floor the sign reads: \"All the men on this floor are short and plain.\" The friends laugh and without hesitation move on to the next floor. The sign on the second floor reads: \"All the men here are short and handsome.\" Still, this isn't good enough, so the friends continue on up. They reach the third floor and the sign reads: \"All the men here are tall and plain.\" They still want to do better, and so, knowing there are still two floors left, they continued on up. On the fourth floor, the sign is perfect: \"All the men here are tall and handsome.\" The women get all excited and are going in when they realize that there is still one floor left. Wondering what they are missing, they head on up to the fifth floor. There they find a sign that reads: \"There are no men here. This floor was built only to prove that there is no way to please a woman.\"\n",
      "\n",
      "\n",
      "JokeID : 34 , Joke is : An explorer in the deepest Amazon suddenly finds himself surrounded by a bloodthirsty group of natives. Upon surveying the situation, he says quietly to himself, \"Oh God, I'm screwed.\" The sky darkens and a voice booms out, \"No, you are NOT screwed. Pick up that stone at your feet and bash in the head of the chief standing in front of you.\" So with the stone he bashes the life out of the chief. He stands above the lifeless body, breathing heavily and looking at 100 angry natives... The voice booms out again, \"Okay....NOW you're screwed.\"\n",
      "\n",
      "\n",
      "JokeID : 89 , Joke is : Q: How many programmers does it take to change a lightbulb? A: NONE! That's a hardware problem...\n",
      "\n",
      "\n",
      "JokeID : 111 , Joke is : When my three-year-old son opened the birthday gift from his grandmother, he discovered a water pistol. He squealed with delight and headed for the nearest sink. I was not so pleased. I turned to Mom and said, \"I'm surprised at you. Don't you remember how we used to drive you crazy with water guns?\" Mom smiled and then replied...\"I remember.\"\n",
      "\n",
      "\n",
      "JokeID : 70 , Joke is : At a recent Sacramento PC Users Group meeting, a company was demonstrating its latest speech- recognition software. A representative from the company was just about ready to start the demonstration and asked everyone in the room to quiet down. Just then, someone in the back of the room yelled, \"Format C: Return.\" Someone else chimed in: \"Yes, Return.\" Unfortunately, the software worked.\n",
      "\n",
      "\n",
      "JokeID : 134 , Joke is : A guy walked past a mental hospital and heard a moaning voice: \"13...13...13...13...\" The man looked over to the hospital and saw a hole in the wall. He looked through the hole and got poked in the eye. The moaning voice then groaned: \"14...14...14...14...\"\n",
      "\n",
      "\n",
      "JokeID : 45 , Joke is : A couple has been married for 75 years. For the husband's 95th birthday, his wife decides to surprise him by hiring a prostitute. That day, the doorbell rings. The husband uses his walker to get to the door and opens it. A 21-year-old in a latex outfit smiles and says, \"Hi, I here to give you super sex!\" The old man says, \"I'll take the soup.\"\n",
      "\n",
      "\n",
      "JokeID : 92 , Joke is : Reaching the end of a job interview, the human resources person asked a young engineer fresh out of Stanford, \"And what starting salary were you looking for?\" The engineer said, \"In the neighborhood of $125,000 a year, depending on the benefits package.\" The interviewer said, \"Well, what would you say to a package of 5-weeks vacation, 14 paid holidays, full medical and dental, company matching retirement fund to 50% of salary, and a company car leased every 2 years--say, a red Corvette?\" The engineer sat up straight and said, \"Wow! Are you kidding?\" And the interviewer replied, \"Yeah, but you started it.\"\n",
      "\n",
      "\n",
      "JokeID : 112 , Joke is : The new employee stood before the paper shredder looking confused. \"Need some help?\" a secretary asked. \"Yes,\" he replied. \"How does this thing work?\" \"Simple,\" she said, taking the fat report from his hand and feeding it into the shredder. \"Thanks, but where do the copies come out?\"\n",
      "\n",
      "\n",
      "JokeID : 88 , Joke is : A radio conversation between a US naval ship and Canadian authorities... Americans: Please divert your course 15 degrees to the North to avoid a collision. Canadians: Recommend you divert YOUR course 15 degrees to the South to avoid a collision. Americans: This is the captain of a US Navy ship. I say again, divert YOUR course. Canadians: No. I say again, you divert YOUR course. Americans: This is the aircraft carrier USS Lincoln, the second largest ship in the United States' Atlantic Fleet. We are accompanied by three destroyers, three cruisers and numerous support vessels. I demand that you change your course 15 degrees North, that's ONE FIVE DEGREES NORTH, or counter-measures will be undertaken to ensure the safety of this ship. Canadians: This is a lighthouse. Your call.\n",
      "\n",
      "***********************************\n",
      "For User: 529 Top Recommendations:\n",
      "***********************************\n",
      "\n",
      "JokeID : 97 , Joke is : Age and Womanhood 1. Between the ages of 13 and 18... She is like Africa, virgin and unexplored. 2. Between the ages of 19 and 35... She is like Asia, hot and exotic. 3. Between the ages of 36 and 45... She is like America, fully explored, breathtakingly beautiful, and free with her resources. 4. Between the ages of 46 and 56... She is like Europe, exhausted but still has points of interest. 5. After 56 she is like Australia... Everybody knows it's down there, but who gives a damn?\n",
      "\n",
      "\n",
      "JokeID : 47 , Joke is : The graduate with a Science degree asks, \"Why does it work?\" The graduate with an Engineering degree asks, \"How does it work?\" The graduate with an Accounting degree Asks, \"How much will it cost?\" The graduate with a Liberal Arts degree asks, \"Do you want fries with that?\"\n",
      "\n",
      "\n",
      "JokeID : 93 , Joke is : Two atoms are walking down the street when one atom says to the other, \"Oh, my! I've lost an electron!\" The second atom says, \"Are you sure?\" The first replies, \"I'm positive!\"\n",
      "\n",
      "\n",
      "JokeID : 49 , Joke is : A guy goes into confession and says to the priest, \"Father, I'm 80 years old, widower, with 11 grandchildren. Last night I met two beautiful flight attendants. They took me home and I made love to both of them. Twice.\" The priest says, \"Well, my son, when was the last time you were in confession?\" \"Never Father, I'm Jewish.\" \"So then, why are you telling me?\" \"I'm telling everybody!\"\n",
      "\n",
      "\n",
      "JokeID : 48 , Joke is : Three engineering students were gathered together discussing the possible designers of the human body. One said, \"It was a mechanical engineer. Just look at all the joints.\" Another said, \"No, it was an electrical engineer. The nervous systems many thousands of electrical connections.\" The last said, \"Actually, it was a civil engineer. Who else would run a toxic waste pipeline through a recreational area?\"\n",
      "\n",
      "\n",
      "JokeID : 119 , Joke is : Judy was having trouble with her computer, so she called Tony, the computer guy, over to her desk. Tony clicked a couple buttons and solved the problem. As he was walking away, Judy called after him, \"So, what was wrong?\" And he replied, \"It was an ID Ten T Error.\" A puzzled expression ran riot over Judy's face. \"An ID Ten T Error? What's that...in case I need to fix it again?\" He gave her a grin...\"Haven't you ever heard of an ID Ten T Error before?\" \"No,\" replied Judy. \"Write it down,\" he said, \"and I think you'll figure it out.\" (She wrote...) I D 1 0 T\n",
      "\n",
      "\n",
      "JokeID : 76 , Joke is : If pro- is the opposite of con-, then congress must be the opposite of progress.\n",
      "\n",
      "\n",
      "JokeID : 8 , Joke is : A country guy goes into a city bar that has a dress code, and the maitre d' demands he wear a tie. Discouraged, the guy goes to his car to sulk when inspiration strikes: He's got jumper cables in the trunk! So he wraps them around his neck, sort of like a string tie (a bulky string tie to be sure) and returns to the bar. The maitre d' is reluctant, but says to the guy, \"Okay, you're a pretty resourceful fellow, you can come in... but just don't start anything!\"\n",
      "\n",
      "\n",
      "JokeID : 42 , Joke is : Arnold Schwarzenegger and Sylvester Stallone are making a movie about the lives of the great composers. Stallone says, \"I want to be Mozart.\" Swartzeneger says, \"In that case...I'll be Bach.\"\n",
      "\n",
      "\n",
      "JokeID : 98 , Joke is : A bus station is where a bus stops. A train station is where a train stops. On my desk I have a work station...\n",
      "\n",
      "***********************************\n",
      "For User: 897 Top Recommendations:\n",
      "***********************************\n",
      "\n",
      "JokeID : 134 , Joke is : A guy walked past a mental hospital and heard a moaning voice: \"13...13...13...13...\" The man looked over to the hospital and saw a hole in the wall. He looked through the hole and got poked in the eye. The moaning voice then groaned: \"14...14...14...14...\"\n",
      "\n",
      "\n",
      "JokeID : 118 , Joke is : One day the first grade teacher was reading the story of the Three Little Pigs to her class. She came to the part of the story where the first pig was trying to accumulate the building materials for his home. She read, \"...and so the pig went up to the man with the wheelbarrow full of straw and said, 'Pardon me sir, but may I have some of that straw to build my house?'\" The teacher paused then asked the class, \"And what do you think that man said?\" One little boy raised his hand and said, \"I know...he said, 'Holy Shit! A talking pig!'\"\n",
      "\n",
      "\n",
      "JokeID : 69 , Joke is : Employer to applicant: \"In this job we need someone who is responsible.\" Applicant: \"I'm the one you want. On my last job, every time anything went wrong, they said I was responsible.\"\n",
      "\n",
      "\n",
      "JokeID : 65 , Joke is : A lawyer opened the door of his BMW, when suddenly a car came along and hit the door, ripping it off completely. When the police arrived at the scene, the lawyer was complaining bitterly about the damage to his precious BMW. \"Officer, look what they've done to my Beeeeemer!\" he whined. \"You lawyers are so materialistic, you make me sick!\" retorted the officer. \"You're so worried about your stupid BMW that you didn't even notice your left arm was ripped off!\" \"Oh my gaaaad...\" replied the lawyer, finally noticing the bloody left shoulder where his arm once was. \"Where's my Rolex?!\"\n",
      "\n",
      "\n",
      "JokeID : 70 , Joke is : At a recent Sacramento PC Users Group meeting, a company was demonstrating its latest speech- recognition software. A representative from the company was just about ready to start the demonstration and asked everyone in the room to quiet down. Just then, someone in the back of the room yelled, \"Format C: Return.\" Someone else chimed in: \"Yes, Return.\" Unfortunately, the software worked.\n",
      "\n",
      "\n",
      "JokeID : 109 , Joke is : One day, a professor was giving a big test to his students. He handed out the tests and went back to his desk to wait. Once the test was over, the students all handed the tests back in. The professor noticed that one of the students had attached a $100 bill to his test with a note saying: \"A dollar per point.\" The next class the professor handed the tests back out. This student got back his test...and $64 change!\n",
      "\n",
      "\n",
      "JokeID : 147 , Joke is : Recently a teacher, a garbage collector, and a lawyer wound up together at the Pearly Gates. St. Peter informed them that in order to get into Heaven, they would each have to answer one question. St. Peter addressed the teacher and asked, \"What was the name of the ship that crashed into the iceberg? They just made a movie about it.\" The teacher answered quickly, \"That would be the Titanic.\" St. Peter let him through the gate. St. Peter turned to the garbage man and, figuring Heaven didn't really need all the odors that this guy would bring with him, decided to make the question a little harder: \"How many people died on the ship?\" Fortunately for him, the trash man had just seen the movie. \"1,228,\" he answered. \"That's right! You may enter.\" St. Peter turned to the lawyer: \"Name them.\"\n",
      "\n",
      "\n",
      "JokeID : 56 , Joke is : Why are there so many Jones's in the phone book? Because they all have phones.\n",
      "\n",
      "\n",
      "JokeID : 131 , Joke is : Mickey Mouse is having a nasty divorce with Minnie Mouse. Mickey spoke to the judge about the separation. \"I'm sorry Mickey, but I can't legally separate you two on the grounds that Minnie is mentally insane...\" Mickey replied, \"I didn't say she was mentally insane, I said that she's fucking Goofy!\"\n",
      "\n",
      "\n",
      "JokeID : 29 , Joke is : Q: What's the difference between a lawyer and a plumber? A: A plumber works to unclog the system.\n",
      "\n",
      "***********************************\n",
      "For User: 553 Top Recommendations:\n",
      "***********************************\n",
      "\n",
      "JokeID : 27 , Joke is : A mechanical engineer, an electrical engineer, and a software engineer from Microsoft were driving through the desert when the car broke down. The mechanical engineer said: \"It seems to be a problem with the fuel injection system, why don't we pop the hood and I'll take a look at it?\" To which the electrical engineer replied, \"No, I think it's just a loose ground wire, I'll get out and take a look.\" Then the software engineer from Microsoft jumps in. \"No, no, no. If we just close up all the windows, get out, wait a few minutes, get back in, and then reopen the windows everything will work fine.\"\n",
      "\n",
      "\n",
      "JokeID : 66 , Joke is : Once upon a time, two brooms fell in love and decided to get married. Before the ceremony, the bride broom informed the groom broom that she was expecting a little whiskbroom. The groom broom was aghast! \"How is this possible?\" he asked. \"We've never swept together!\"\n",
      "\n",
      "\n",
      "JokeID : 69 , Joke is : Employer to applicant: \"In this job we need someone who is responsible.\" Applicant: \"I'm the one you want. On my last job, every time anything went wrong, they said I was responsible.\"\n",
      "\n",
      "\n",
      "JokeID : 105 , Joke is : An engineer dies and reports to the pearly gates. St. Peter checks his dossier and says, \"Ah, you''re an engineer--you're in the wrong place.\" So, the engineer reports to the gates of hell and is let in. Pretty soon, the engineer gets dissatisfied with the level of comfort in hell, and starts designing and building improvements. After awhile, they've got air conditioning, flush toilets and escalators, and the engineer is a pretty popular guy. One day, God calls Satan up on the telephone and says with a sneer, \"So, how's it going down there in hell?\" Satan replies, \"Hey, things are going great. We've got air conditioning, flush toilets and escalators, and there's no telling what this engineer is going to come up with next.\" God replies, \"What?? You've got an engineer? That's a mistake--he should never have gotten down there; send him up here.\" Satan says, \"No way.\" I like having an engineer on the staff, and I'm keeping him.\" God says, \"Send him back up here or I'll sue.\" Satan laughs uproariously and answers, \"Yeah, right. And just where are YOU going to get a lawyer?\"\n",
      "\n",
      "\n",
      "JokeID : 114 , Joke is : A lady bought a new Lexus. It cost a bundle. Two days later, she brought it back, complaining that the radio was not working. \"Madam,\" said the sales manager, \"the audio system in this car is completely automatic. All you need to do is tell it what you want to listen to, and you will hear exactly that!\" She drove out, somewhat amazed and a little confused. She looked at the radio and said, \"Nelson.\" The radio responded, \"Ricky or Willie?\" She was astounded. If she wanted Beethoven, that's what she got. If she wanted Nat King Cole, she got it. She was stopped at a traffic light enjoying \"On the Road Again\" when the light turned green and she pulled out. Suddenly an enormous sports utility vehicle coming from the street she was crossing sped toward her, obviously not paying attention to the light. She swerved and narrowly missed a collision. \"Idiot!\" she yelled and, from the radio, \"Ladies and gentlemen, the President of the United States.\"\n",
      "\n",
      "\n",
      "JokeID : 97 , Joke is : Age and Womanhood 1. Between the ages of 13 and 18... She is like Africa, virgin and unexplored. 2. Between the ages of 19 and 35... She is like Asia, hot and exotic. 3. Between the ages of 36 and 45... She is like America, fully explored, breathtakingly beautiful, and free with her resources. 4. Between the ages of 46 and 56... She is like Europe, exhausted but still has points of interest. 5. After 56 she is like Australia... Everybody knows it's down there, but who gives a damn?\n",
      "\n",
      "\n",
      "JokeID : 65 , Joke is : A lawyer opened the door of his BMW, when suddenly a car came along and hit the door, ripping it off completely. When the police arrived at the scene, the lawyer was complaining bitterly about the damage to his precious BMW. \"Officer, look what they've done to my Beeeeemer!\" he whined. \"You lawyers are so materialistic, you make me sick!\" retorted the officer. \"You're so worried about your stupid BMW that you didn't even notice your left arm was ripped off!\" \"Oh my gaaaad...\" replied the lawyer, finally noticing the bloody left shoulder where his arm once was. \"Where's my Rolex?!\"\n",
      "\n",
      "\n",
      "JokeID : 32 , Joke is : What do you call an American in the finals of the world cup? \"Hey beer man!\"\n",
      "\n",
      "\n",
      "JokeID : 91 , Joke is : Early one morning a mother went to her sleeping son and woke him up. \"Wake up, son. It's time to go to school.\" \"But why, Mama? I don't want to go to school.\" \"Give me two reasons why you don't want to go to school.\" \"One, all the children hate me. Two, all the teachers hate me.\" \"Oh, that's no reason. Come on, you have to go to school.\" \"Give me two good reasons why I should go to school.\" \"One, you are fifty-two years old. Two, you are the principal of the school.\"\n",
      "\n",
      "\n",
      "JokeID : 45 , Joke is : A couple has been married for 75 years. For the husband's 95th birthday, his wife decides to surprise him by hiring a prostitute. That day, the doorbell rings. The husband uses his walker to get to the door and opens it. A 21-year-old in a latex outfit smiles and says, \"Hi, I here to give you super sex!\" The old man says, \"I'll take the soup.\"\n",
      "\n",
      "***********************************\n",
      "For User: 326 Top Recommendations:\n",
      "***********************************\n",
      "\n",
      "JokeID : 29 , Joke is : Q: What's the difference between a lawyer and a plumber? A: A plumber works to unclog the system.\n",
      "\n",
      "\n",
      "JokeID : 36 , Joke is : A Jewish young man was seeing a psychiatrist for an eating and sleeping disorder. \"I am so obsessed with my mother...As soon as I go to sleep, I start dreaming, and everyone in my dream turns into my mother. I wake up in such a state, and all I can do is go downstairs and eat a piece of toast.\" The psychiatrist replies, \"What, just one piece of toast, for a big boy like you?\"\n",
      "\n",
      "\n",
      "JokeID : 5 , Joke is : Bill and Hillary Clinton are on a trip back to Arkansas. They're almost out of gas, so Bill pulls into a service station on the outskirts of town. The attendant runs out of the station to serve them when Hillary realizes it's an old boyfriend from high school. She and the attendant chat as he gases up their car and cleans the windows. Then they all say goodbye. As Bill pulls the car onto the road, he turns to Hillary and says, \"Now aren't you glad you married me and not him? You could've been the wife of a grease monkey!\" To which Hillary replied, \"No, Bill. If I would have married him, you'd be pumping gas and he would be the President!\"\n",
      "\n",
      "\n",
      "JokeID : 90 , Joke is : A Panda walks into a bar, sits down at a table and orders a beer and a double cheeseburger. After he is finished eating, he pulls out a gun and rips the place with gunfire. Patrons scatter and dive under chairs and tables as the bear runs out the door. After ensuring that no one is hurt, the bartender races out the door, and calls after the bear: \"What the hell did you do that for?\" The bear calls back, \"I'm a Panda. Look it up in the dictionary.\" The bartender returns, pulls out his dictionary. panda: \\Pan\"da\\, n. (Zo[\"o]l.) A small Asiatic mammal (Ailurus fulgens) having fine soft fur. It is related to the bears, and inhabits the mountains of Northern India. Eats shoots and leaves.\n",
      "\n",
      "\n",
      "JokeID : 13 , Joke is : The father was very anxious to marry off his only daughter so he wanted to impress her date. \"Do you like to screw?\" he asks. \"Huh?\" replied the surprised first date. \"My daughter, she loves to screw and she's good at it: you and her should go screw,\" the father carefully explained. Now very interested, the boy replied, \"Yes, sir.\" Minutes later the girl came down the stairs, kissed her father goodbye and the couple left. After only a few minutes she reappeared, furious, dress torn, hair a mess and screamed, \"Dammit, Daddy, it's the TWIST, get it straight!\"\n",
      "\n",
      "\n",
      "JokeID : 16 , Joke is : How many men does it take to screw in a light bulb? One. Men will screw anything.\n",
      "\n",
      "***********************************\n",
      "For User: 763 Top Recommendations:\n",
      "***********************************\n",
      "\n",
      "JokeID : 53 , Joke is : The Pope dies and, naturally, goes to heaven. He's met by the reception committee, and after a whirlwind tour he is told that he can enjoy any of the myriad of recreations available. He decides that he wants to read all of the ancient original text of the Holy Scriptures, so he spends the next eon or so learning languages. After becoming a linguistic master, he sits down in the library and begins to pour over every version of the Bible, working back from most recent \"Easy Reading\" to the original script. All of a sudden there is a scream in the library. The angels come running in only to find the Pope huddled in his chair, crying to himself and muttering, \"An 'R'! The scribes left out the 'R'!\" A particularly concerned angel takes him aside, and offering comfort, asks him what the problem is and what he means. After collecting his wits, the Pope sobs again, \"It's the letter 'R'. They left out the 'R'. The word was supposed to be 'CELEBRATE'!\"\n",
      "\n",
      "\n",
      "JokeID : 117 , Joke is : A man goes into a drug store and asks the pharmacist if he can give him something for the hiccups. The pharmacist promptly reaches out and slaps the man's face. \"What the heck did you do that for?!\" the man screams. \"Well, you don't have the hiccups anymore, do you?\" The man says, \"No I don't, you IDIOT...but my wife out in the car still does!\"\n",
      "\n",
      "\n",
      "JokeID : 72 , Joke is : Q: What is the difference between George Washington, Richard Nixon, and Bill Clinton? A: Washington couldn't tell a lie, Nixon couldn't tell the truth, and Clinton doesn't know the difference.\n",
      "\n",
      "\n",
      "JokeID : 8 , Joke is : A country guy goes into a city bar that has a dress code, and the maitre d' demands he wear a tie. Discouraged, the guy goes to his car to sulk when inspiration strikes: He's got jumper cables in the trunk! So he wraps them around his neck, sort of like a string tie (a bulky string tie to be sure) and returns to the bar. The maitre d' is reluctant, but says to the guy, \"Okay, you're a pretty resourceful fellow, you can come in... but just don't start anything!\"\n",
      "\n",
      "\n",
      "JokeID : 131 , Joke is : Mickey Mouse is having a nasty divorce with Minnie Mouse. Mickey spoke to the judge about the separation. \"I'm sorry Mickey, but I can't legally separate you two on the grounds that Minnie is mentally insane...\" Mickey replied, \"I didn't say she was mentally insane, I said that she's fucking Goofy!\"\n",
      "\n",
      "\n",
      "JokeID : 146 , Joke is : It was the day of the big sale. Rumors of the sale (and some advertising in the local paper) were the main reason for the long line that formed by 8:30, the store's opening time, in front of the store. A small man pushed his way to the front of the line, only to be pushed back, amid loud and colorful curses. On the man's second attempt, he was punched square in the jaw, and knocked around a bit, and then thrown to the end of the line again. As he got up the second time, he said to the person at the end of the line... \"That does it! If they hit me one more time, I won't open the store!\"\n",
      "\n",
      "\n",
      "JokeID : 15 , Joke is : Q. What is orange and sounds like a parrot? A. A carrot.\n",
      "\n",
      "***********************************\n",
      "For User: 353 Top Recommendations:\n",
      "***********************************\n",
      "\n",
      "JokeID : 62 , Joke is : An engineer, a physicist and a mathematician are sleeping in a room. There is a fire in the room. The engineer wakes up, sees the fire, picks up the bucket of water and douses the fire and goes back to sleep. Again there is a fire in the room. This time, the physicist wakes up, notices the bucket, fills it with water, calculates the optimal trajectory and douses the fire in minimum amount of water and goes back to sleep. Again there is a fire. This time the mathematician wakes up. He looks at the fire, looks at the bucket and the water and exclaims, \"A solution exists!\" and goes back to sleep.\n",
      "\n",
      "\n",
      "JokeID : 117 , Joke is : A man goes into a drug store and asks the pharmacist if he can give him something for the hiccups. The pharmacist promptly reaches out and slaps the man's face. \"What the heck did you do that for?!\" the man screams. \"Well, you don't have the hiccups anymore, do you?\" The man says, \"No I don't, you IDIOT...but my wife out in the car still does!\"\n",
      "\n",
      "\n",
      "JokeID : 31 , Joke is : A man arrives at the gates of heaven. St. Peter asks, \"Religion?\" The man says, \"Methodist.\" St. Peter looks down his list, and says, \"Go to room 24, but be very quiet as you pass room 8.\" Another man arrives at the gates of heaven. \"Religion?\" \"Baptist.\" \"Go to room 18, but be very quiet as you pass room 8.\" A third man arrives at the gates. \"Religion?\" \"Jewish.\" \"Go to room 11, but be very quiet as you pass room 8.\" The man says, \"I can understand there being different rooms for different religions, but why must I be quiet when I pass room 8?\" St. Peter tells him, \"Well, the Catholics are in room 8, and they think they're the only ones here.\"\n",
      "\n",
      "\n",
      "JokeID : 97 , Joke is : Age and Womanhood 1. Between the ages of 13 and 18... She is like Africa, virgin and unexplored. 2. Between the ages of 19 and 35... She is like Asia, hot and exotic. 3. Between the ages of 36 and 45... She is like America, fully explored, breathtakingly beautiful, and free with her resources. 4. Between the ages of 46 and 56... She is like Europe, exhausted but still has points of interest. 5. After 56 she is like Australia... Everybody knows it's down there, but who gives a damn?\n",
      "\n"
     ]
    },
    {
     "ename": "KeyError",
     "evalue": "150",
     "output_type": "error",
     "traceback": [
      "\u001b[1;31m---------------------------------------------------------------------------\u001b[0m",
      "\u001b[1;31mValueError\u001b[0m                                Traceback (most recent call last)",
      "\u001b[1;32mC:\\ProgramData\\Anaconda3\\lib\\site-packages\\pandas\\core\\indexes\\range.py\u001b[0m in \u001b[0;36mget_loc\u001b[1;34m(self, key, method, tolerance)\u001b[0m\n\u001b[0;32m    354\u001b[0m                 \u001b[1;32mtry\u001b[0m\u001b[1;33m:\u001b[0m\u001b[1;33m\u001b[0m\u001b[1;33m\u001b[0m\u001b[0m\n\u001b[1;32m--> 355\u001b[1;33m                     \u001b[1;32mreturn\u001b[0m \u001b[0mself\u001b[0m\u001b[1;33m.\u001b[0m\u001b[0m_range\u001b[0m\u001b[1;33m.\u001b[0m\u001b[0mindex\u001b[0m\u001b[1;33m(\u001b[0m\u001b[0mnew_key\u001b[0m\u001b[1;33m)\u001b[0m\u001b[1;33m\u001b[0m\u001b[1;33m\u001b[0m\u001b[0m\n\u001b[0m\u001b[0;32m    356\u001b[0m                 \u001b[1;32mexcept\u001b[0m \u001b[0mValueError\u001b[0m \u001b[1;32mas\u001b[0m \u001b[0merr\u001b[0m\u001b[1;33m:\u001b[0m\u001b[1;33m\u001b[0m\u001b[1;33m\u001b[0m\u001b[0m\n",
      "\u001b[1;31mValueError\u001b[0m: 150 is not in range",
      "\nThe above exception was the direct cause of the following exception:\n",
      "\u001b[1;31mKeyError\u001b[0m                                  Traceback (most recent call last)",
      "\u001b[1;32m<ipython-input-30-bdf84a7a4aaf>\u001b[0m in \u001b[0;36m<module>\u001b[1;34m\u001b[0m\n\u001b[0;32m      6\u001b[0m \u001b[1;33m\u001b[0m\u001b[0m\n\u001b[0;32m      7\u001b[0m     \u001b[1;32mfor\u001b[0m \u001b[1;33m(\u001b[0m\u001b[0miid\u001b[0m\u001b[1;33m,\u001b[0m \u001b[0m_\u001b[0m\u001b[1;33m)\u001b[0m \u001b[1;32min\u001b[0m \u001b[0muser_ratings\u001b[0m\u001b[1;33m:\u001b[0m\u001b[1;33m\u001b[0m\u001b[1;33m\u001b[0m\u001b[0m\n\u001b[1;32m----> 8\u001b[1;33m         \u001b[0mprint\u001b[0m\u001b[1;33m(\u001b[0m\u001b[1;34m'\\nJokeID : {} , Joke is : {}\\n'\u001b[0m\u001b[1;33m.\u001b[0m\u001b[0mformat\u001b[0m\u001b[1;33m(\u001b[0m\u001b[0miid\u001b[0m\u001b[1;33m,\u001b[0m \u001b[0mjokes\u001b[0m\u001b[1;33m.\u001b[0m\u001b[0mloc\u001b[0m\u001b[1;33m[\u001b[0m\u001b[0miid\u001b[0m\u001b[1;33m,\u001b[0m \u001b[1;34m'Joke'\u001b[0m\u001b[1;33m]\u001b[0m\u001b[1;33m)\u001b[0m\u001b[1;33m)\u001b[0m\u001b[1;33m\u001b[0m\u001b[1;33m\u001b[0m\u001b[0m\n\u001b[0m",
      "\u001b[1;32mC:\\ProgramData\\Anaconda3\\lib\\site-packages\\pandas\\core\\indexing.py\u001b[0m in \u001b[0;36m__getitem__\u001b[1;34m(self, key)\u001b[0m\n\u001b[0;32m    871\u001b[0m                     \u001b[1;31m# AttributeError for IntervalTree get_value\u001b[0m\u001b[1;33m\u001b[0m\u001b[1;33m\u001b[0m\u001b[1;33m\u001b[0m\u001b[0m\n\u001b[0;32m    872\u001b[0m                     \u001b[1;32mpass\u001b[0m\u001b[1;33m\u001b[0m\u001b[1;33m\u001b[0m\u001b[0m\n\u001b[1;32m--> 873\u001b[1;33m             \u001b[1;32mreturn\u001b[0m \u001b[0mself\u001b[0m\u001b[1;33m.\u001b[0m\u001b[0m_getitem_tuple\u001b[0m\u001b[1;33m(\u001b[0m\u001b[0mkey\u001b[0m\u001b[1;33m)\u001b[0m\u001b[1;33m\u001b[0m\u001b[1;33m\u001b[0m\u001b[0m\n\u001b[0m\u001b[0;32m    874\u001b[0m         \u001b[1;32melse\u001b[0m\u001b[1;33m:\u001b[0m\u001b[1;33m\u001b[0m\u001b[1;33m\u001b[0m\u001b[0m\n\u001b[0;32m    875\u001b[0m             \u001b[1;31m# we by definition only have the 0th axis\u001b[0m\u001b[1;33m\u001b[0m\u001b[1;33m\u001b[0m\u001b[1;33m\u001b[0m\u001b[0m\n",
      "\u001b[1;32mC:\\ProgramData\\Anaconda3\\lib\\site-packages\\pandas\\core\\indexing.py\u001b[0m in \u001b[0;36m_getitem_tuple\u001b[1;34m(self, tup)\u001b[0m\n\u001b[0;32m   1042\u001b[0m     \u001b[1;32mdef\u001b[0m \u001b[0m_getitem_tuple\u001b[0m\u001b[1;33m(\u001b[0m\u001b[0mself\u001b[0m\u001b[1;33m,\u001b[0m \u001b[0mtup\u001b[0m\u001b[1;33m:\u001b[0m \u001b[0mTuple\u001b[0m\u001b[1;33m)\u001b[0m\u001b[1;33m:\u001b[0m\u001b[1;33m\u001b[0m\u001b[1;33m\u001b[0m\u001b[0m\n\u001b[0;32m   1043\u001b[0m         \u001b[1;32mtry\u001b[0m\u001b[1;33m:\u001b[0m\u001b[1;33m\u001b[0m\u001b[1;33m\u001b[0m\u001b[0m\n\u001b[1;32m-> 1044\u001b[1;33m             \u001b[1;32mreturn\u001b[0m \u001b[0mself\u001b[0m\u001b[1;33m.\u001b[0m\u001b[0m_getitem_lowerdim\u001b[0m\u001b[1;33m(\u001b[0m\u001b[0mtup\u001b[0m\u001b[1;33m)\u001b[0m\u001b[1;33m\u001b[0m\u001b[1;33m\u001b[0m\u001b[0m\n\u001b[0m\u001b[0;32m   1045\u001b[0m         \u001b[1;32mexcept\u001b[0m \u001b[0mIndexingError\u001b[0m\u001b[1;33m:\u001b[0m\u001b[1;33m\u001b[0m\u001b[1;33m\u001b[0m\u001b[0m\n\u001b[0;32m   1046\u001b[0m             \u001b[1;32mpass\u001b[0m\u001b[1;33m\u001b[0m\u001b[1;33m\u001b[0m\u001b[0m\n",
      "\u001b[1;32mC:\\ProgramData\\Anaconda3\\lib\\site-packages\\pandas\\core\\indexing.py\u001b[0m in \u001b[0;36m_getitem_lowerdim\u001b[1;34m(self, tup)\u001b[0m\n\u001b[0;32m    784\u001b[0m                 \u001b[1;31m# We don't need to check for tuples here because those are\u001b[0m\u001b[1;33m\u001b[0m\u001b[1;33m\u001b[0m\u001b[1;33m\u001b[0m\u001b[0m\n\u001b[0;32m    785\u001b[0m                 \u001b[1;31m#  caught by the _is_nested_tuple_indexer check above.\u001b[0m\u001b[1;33m\u001b[0m\u001b[1;33m\u001b[0m\u001b[1;33m\u001b[0m\u001b[0m\n\u001b[1;32m--> 786\u001b[1;33m                 \u001b[0msection\u001b[0m \u001b[1;33m=\u001b[0m \u001b[0mself\u001b[0m\u001b[1;33m.\u001b[0m\u001b[0m_getitem_axis\u001b[0m\u001b[1;33m(\u001b[0m\u001b[0mkey\u001b[0m\u001b[1;33m,\u001b[0m \u001b[0maxis\u001b[0m\u001b[1;33m=\u001b[0m\u001b[0mi\u001b[0m\u001b[1;33m)\u001b[0m\u001b[1;33m\u001b[0m\u001b[1;33m\u001b[0m\u001b[0m\n\u001b[0m\u001b[0;32m    787\u001b[0m \u001b[1;33m\u001b[0m\u001b[0m\n\u001b[0;32m    788\u001b[0m                 \u001b[1;31m# We should never have a scalar section here, because\u001b[0m\u001b[1;33m\u001b[0m\u001b[1;33m\u001b[0m\u001b[1;33m\u001b[0m\u001b[0m\n",
      "\u001b[1;32mC:\\ProgramData\\Anaconda3\\lib\\site-packages\\pandas\\core\\indexing.py\u001b[0m in \u001b[0;36m_getitem_axis\u001b[1;34m(self, key, axis)\u001b[0m\n\u001b[0;32m   1108\u001b[0m         \u001b[1;31m# fall thru to straight lookup\u001b[0m\u001b[1;33m\u001b[0m\u001b[1;33m\u001b[0m\u001b[1;33m\u001b[0m\u001b[0m\n\u001b[0;32m   1109\u001b[0m         \u001b[0mself\u001b[0m\u001b[1;33m.\u001b[0m\u001b[0m_validate_key\u001b[0m\u001b[1;33m(\u001b[0m\u001b[0mkey\u001b[0m\u001b[1;33m,\u001b[0m \u001b[0maxis\u001b[0m\u001b[1;33m)\u001b[0m\u001b[1;33m\u001b[0m\u001b[1;33m\u001b[0m\u001b[0m\n\u001b[1;32m-> 1110\u001b[1;33m         \u001b[1;32mreturn\u001b[0m \u001b[0mself\u001b[0m\u001b[1;33m.\u001b[0m\u001b[0m_get_label\u001b[0m\u001b[1;33m(\u001b[0m\u001b[0mkey\u001b[0m\u001b[1;33m,\u001b[0m \u001b[0maxis\u001b[0m\u001b[1;33m=\u001b[0m\u001b[0maxis\u001b[0m\u001b[1;33m)\u001b[0m\u001b[1;33m\u001b[0m\u001b[1;33m\u001b[0m\u001b[0m\n\u001b[0m\u001b[0;32m   1111\u001b[0m \u001b[1;33m\u001b[0m\u001b[0m\n\u001b[0;32m   1112\u001b[0m     \u001b[1;32mdef\u001b[0m \u001b[0m_get_slice_axis\u001b[0m\u001b[1;33m(\u001b[0m\u001b[0mself\u001b[0m\u001b[1;33m,\u001b[0m \u001b[0mslice_obj\u001b[0m\u001b[1;33m:\u001b[0m \u001b[0mslice\u001b[0m\u001b[1;33m,\u001b[0m \u001b[0maxis\u001b[0m\u001b[1;33m:\u001b[0m \u001b[0mint\u001b[0m\u001b[1;33m)\u001b[0m\u001b[1;33m:\u001b[0m\u001b[1;33m\u001b[0m\u001b[1;33m\u001b[0m\u001b[0m\n",
      "\u001b[1;32mC:\\ProgramData\\Anaconda3\\lib\\site-packages\\pandas\\core\\indexing.py\u001b[0m in \u001b[0;36m_get_label\u001b[1;34m(self, label, axis)\u001b[0m\n\u001b[0;32m   1057\u001b[0m     \u001b[1;32mdef\u001b[0m \u001b[0m_get_label\u001b[0m\u001b[1;33m(\u001b[0m\u001b[0mself\u001b[0m\u001b[1;33m,\u001b[0m \u001b[0mlabel\u001b[0m\u001b[1;33m,\u001b[0m \u001b[0maxis\u001b[0m\u001b[1;33m:\u001b[0m \u001b[0mint\u001b[0m\u001b[1;33m)\u001b[0m\u001b[1;33m:\u001b[0m\u001b[1;33m\u001b[0m\u001b[1;33m\u001b[0m\u001b[0m\n\u001b[0;32m   1058\u001b[0m         \u001b[1;31m# GH#5667 this will fail if the label is not present in the axis.\u001b[0m\u001b[1;33m\u001b[0m\u001b[1;33m\u001b[0m\u001b[1;33m\u001b[0m\u001b[0m\n\u001b[1;32m-> 1059\u001b[1;33m         \u001b[1;32mreturn\u001b[0m \u001b[0mself\u001b[0m\u001b[1;33m.\u001b[0m\u001b[0mobj\u001b[0m\u001b[1;33m.\u001b[0m\u001b[0mxs\u001b[0m\u001b[1;33m(\u001b[0m\u001b[0mlabel\u001b[0m\u001b[1;33m,\u001b[0m \u001b[0maxis\u001b[0m\u001b[1;33m=\u001b[0m\u001b[0maxis\u001b[0m\u001b[1;33m)\u001b[0m\u001b[1;33m\u001b[0m\u001b[1;33m\u001b[0m\u001b[0m\n\u001b[0m\u001b[0;32m   1060\u001b[0m \u001b[1;33m\u001b[0m\u001b[0m\n\u001b[0;32m   1061\u001b[0m     \u001b[1;32mdef\u001b[0m \u001b[0m_handle_lowerdim_multi_index_axis0\u001b[0m\u001b[1;33m(\u001b[0m\u001b[0mself\u001b[0m\u001b[1;33m,\u001b[0m \u001b[0mtup\u001b[0m\u001b[1;33m:\u001b[0m \u001b[0mTuple\u001b[0m\u001b[1;33m)\u001b[0m\u001b[1;33m:\u001b[0m\u001b[1;33m\u001b[0m\u001b[1;33m\u001b[0m\u001b[0m\n",
      "\u001b[1;32mC:\\ProgramData\\Anaconda3\\lib\\site-packages\\pandas\\core\\generic.py\u001b[0m in \u001b[0;36mxs\u001b[1;34m(self, key, axis, level, drop_level)\u001b[0m\n\u001b[0;32m   3486\u001b[0m             \u001b[0mloc\u001b[0m\u001b[1;33m,\u001b[0m \u001b[0mnew_index\u001b[0m \u001b[1;33m=\u001b[0m \u001b[0mself\u001b[0m\u001b[1;33m.\u001b[0m\u001b[0mindex\u001b[0m\u001b[1;33m.\u001b[0m\u001b[0mget_loc_level\u001b[0m\u001b[1;33m(\u001b[0m\u001b[0mkey\u001b[0m\u001b[1;33m,\u001b[0m \u001b[0mdrop_level\u001b[0m\u001b[1;33m=\u001b[0m\u001b[0mdrop_level\u001b[0m\u001b[1;33m)\u001b[0m\u001b[1;33m\u001b[0m\u001b[1;33m\u001b[0m\u001b[0m\n\u001b[0;32m   3487\u001b[0m         \u001b[1;32melse\u001b[0m\u001b[1;33m:\u001b[0m\u001b[1;33m\u001b[0m\u001b[1;33m\u001b[0m\u001b[0m\n\u001b[1;32m-> 3488\u001b[1;33m             \u001b[0mloc\u001b[0m \u001b[1;33m=\u001b[0m \u001b[0mself\u001b[0m\u001b[1;33m.\u001b[0m\u001b[0mindex\u001b[0m\u001b[1;33m.\u001b[0m\u001b[0mget_loc\u001b[0m\u001b[1;33m(\u001b[0m\u001b[0mkey\u001b[0m\u001b[1;33m)\u001b[0m\u001b[1;33m\u001b[0m\u001b[1;33m\u001b[0m\u001b[0m\n\u001b[0m\u001b[0;32m   3489\u001b[0m \u001b[1;33m\u001b[0m\u001b[0m\n\u001b[0;32m   3490\u001b[0m             \u001b[1;32mif\u001b[0m \u001b[0misinstance\u001b[0m\u001b[1;33m(\u001b[0m\u001b[0mloc\u001b[0m\u001b[1;33m,\u001b[0m \u001b[0mnp\u001b[0m\u001b[1;33m.\u001b[0m\u001b[0mndarray\u001b[0m\u001b[1;33m)\u001b[0m\u001b[1;33m:\u001b[0m\u001b[1;33m\u001b[0m\u001b[1;33m\u001b[0m\u001b[0m\n",
      "\u001b[1;32mC:\\ProgramData\\Anaconda3\\lib\\site-packages\\pandas\\core\\indexes\\range.py\u001b[0m in \u001b[0;36mget_loc\u001b[1;34m(self, key, method, tolerance)\u001b[0m\n\u001b[0;32m    355\u001b[0m                     \u001b[1;32mreturn\u001b[0m \u001b[0mself\u001b[0m\u001b[1;33m.\u001b[0m\u001b[0m_range\u001b[0m\u001b[1;33m.\u001b[0m\u001b[0mindex\u001b[0m\u001b[1;33m(\u001b[0m\u001b[0mnew_key\u001b[0m\u001b[1;33m)\u001b[0m\u001b[1;33m\u001b[0m\u001b[1;33m\u001b[0m\u001b[0m\n\u001b[0;32m    356\u001b[0m                 \u001b[1;32mexcept\u001b[0m \u001b[0mValueError\u001b[0m \u001b[1;32mas\u001b[0m \u001b[0merr\u001b[0m\u001b[1;33m:\u001b[0m\u001b[1;33m\u001b[0m\u001b[1;33m\u001b[0m\u001b[0m\n\u001b[1;32m--> 357\u001b[1;33m                     \u001b[1;32mraise\u001b[0m \u001b[0mKeyError\u001b[0m\u001b[1;33m(\u001b[0m\u001b[0mkey\u001b[0m\u001b[1;33m)\u001b[0m \u001b[1;32mfrom\u001b[0m \u001b[0merr\u001b[0m\u001b[1;33m\u001b[0m\u001b[1;33m\u001b[0m\u001b[0m\n\u001b[0m\u001b[0;32m    358\u001b[0m             \u001b[1;32mraise\u001b[0m \u001b[0mKeyError\u001b[0m\u001b[1;33m(\u001b[0m\u001b[0mkey\u001b[0m\u001b[1;33m)\u001b[0m\u001b[1;33m\u001b[0m\u001b[1;33m\u001b[0m\u001b[0m\n\u001b[0;32m    359\u001b[0m         \u001b[1;32mreturn\u001b[0m \u001b[0msuper\u001b[0m\u001b[1;33m(\u001b[0m\u001b[1;33m)\u001b[0m\u001b[1;33m.\u001b[0m\u001b[0mget_loc\u001b[0m\u001b[1;33m(\u001b[0m\u001b[0mkey\u001b[0m\u001b[1;33m,\u001b[0m \u001b[0mmethod\u001b[0m\u001b[1;33m=\u001b[0m\u001b[0mmethod\u001b[0m\u001b[1;33m,\u001b[0m \u001b[0mtolerance\u001b[0m\u001b[1;33m=\u001b[0m\u001b[0mtolerance\u001b[0m\u001b[1;33m)\u001b[0m\u001b[1;33m\u001b[0m\u001b[1;33m\u001b[0m\u001b[0m\n",
      "\u001b[1;31mKeyError\u001b[0m: 150"
     ]
    }
   ],
   "source": [
    "for uid, user_ratings in top_n.items():\n",
    "    \n",
    "    print('*'*35)\n",
    "    print('For User: {} Top Recommendations:'.format(uid))\n",
    "    print('*'*35)\n",
    "    \n",
    "    for (iid, _) in user_ratings:\n",
    "        print('\\nJokeID : {} , Joke is : {}\\n'.format(iid, jokes.loc[iid, 'Joke']))"
   ]
  },
  {
   "cell_type": "code",
   "execution_count": 26,
   "metadata": {
    "colab": {},
    "colab_type": "code",
    "id": "cs2GZ8CNrzvd"
   },
   "outputs": [
    {
     "data": {
      "text/plain": [
       "Prediction(uid=100, iid=123, r_ui=None, est=-0.5499868321824839, details={'actual_k': 40, 'was_impossible': False})"
      ]
     },
     "execution_count": 26,
     "metadata": {},
     "output_type": "execute_result"
    }
   ],
   "source": [
    "pred = algo.predict(100, 123)\n",
    "pred"
   ]
  },
  {
   "cell_type": "markdown",
   "metadata": {},
   "source": [
    "## Tuning the Algorithm Parameters\n",
    "\n",
    "Surprise provides a GridSearchCV class analogous to GridSearchCV from scikit-learn.\n",
    "\n",
    "With a dict of all parameters, GridSearchCV tries all the combinations of parameters and reports the best parameters for any accuracy measure\n",
    "\n",
    "For example, you can check which similarity metric works best for your data in memory-based approaches:"
   ]
  },
  {
   "cell_type": "code",
   "execution_count": 27,
   "metadata": {},
   "outputs": [
    {
     "name": "stdout",
     "output_type": "stream",
     "text": [
      "Computing the pearson similarity matrix...\n",
      "Done computing similarity matrix.\n",
      "Computing the pearson similarity matrix...\n",
      "Done computing similarity matrix.\n",
      "Computing the pearson similarity matrix...\n",
      "Done computing similarity matrix.\n",
      "Computing the pearson similarity matrix...\n"
     ]
    },
    {
     "name": "stderr",
     "output_type": "stream",
     "text": [
      "C:\\ProgramData\\Anaconda3\\lib\\site-packages\\surprise\\prediction_algorithms\\algo_base.py:249: RuntimeWarning: invalid value encountered in sqrt\n",
      "  sim = construction_func[name](*args)\n"
     ]
    },
    {
     "name": "stdout",
     "output_type": "stream",
     "text": [
      "Done computing similarity matrix.\n",
      "Computing the pearson similarity matrix...\n",
      "Done computing similarity matrix.\n",
      "Computing the pearson similarity matrix...\n",
      "Done computing similarity matrix.\n",
      "Computing the pearson similarity matrix...\n",
      "Done computing similarity matrix.\n",
      "Computing the pearson similarity matrix...\n",
      "Done computing similarity matrix.\n",
      "Computing the pearson similarity matrix...\n",
      "Done computing similarity matrix.\n",
      "Computing the pearson similarity matrix...\n",
      "Done computing similarity matrix.\n",
      "Computing the pearson similarity matrix...\n",
      "Done computing similarity matrix.\n",
      "Computing the pearson similarity matrix...\n",
      "Done computing similarity matrix.\n",
      "Computing the pearson similarity matrix...\n",
      "Done computing similarity matrix.\n",
      "Computing the pearson similarity matrix...\n",
      "Done computing similarity matrix.\n",
      "Computing the pearson similarity matrix...\n",
      "Done computing similarity matrix.\n",
      "Computing the pearson similarity matrix...\n",
      "Done computing similarity matrix.\n",
      "Computing the pearson similarity matrix...\n",
      "Done computing similarity matrix.\n",
      "Computing the pearson similarity matrix...\n",
      "Done computing similarity matrix.\n",
      "Computing the cosine similarity matrix...\n",
      "Done computing similarity matrix.\n",
      "Computing the cosine similarity matrix...\n",
      "Done computing similarity matrix.\n",
      "Computing the cosine similarity matrix...\n",
      "Done computing similarity matrix.\n",
      "Computing the cosine similarity matrix...\n",
      "Done computing similarity matrix.\n",
      "Computing the cosine similarity matrix...\n",
      "Done computing similarity matrix.\n",
      "Computing the cosine similarity matrix...\n",
      "Done computing similarity matrix.\n",
      "Computing the cosine similarity matrix...\n",
      "Done computing similarity matrix.\n",
      "Computing the cosine similarity matrix...\n",
      "Done computing similarity matrix.\n",
      "Computing the cosine similarity matrix...\n",
      "Done computing similarity matrix.\n",
      "Computing the cosine similarity matrix...\n",
      "Done computing similarity matrix.\n",
      "Computing the cosine similarity matrix...\n",
      "Done computing similarity matrix.\n",
      "Computing the cosine similarity matrix...\n",
      "Done computing similarity matrix.\n",
      "Computing the cosine similarity matrix...\n",
      "Done computing similarity matrix.\n",
      "Computing the cosine similarity matrix...\n",
      "Done computing similarity matrix.\n",
      "Computing the cosine similarity matrix...\n",
      "Done computing similarity matrix.\n",
      "Computing the cosine similarity matrix...\n",
      "Done computing similarity matrix.\n",
      "Computing the cosine similarity matrix...\n",
      "Done computing similarity matrix.\n",
      "Computing the cosine similarity matrix...\n",
      "Done computing similarity matrix.\n",
      "4.667799543100856\n",
      "{'sim_options': {'name': 'cosine', 'min_support': 4, 'user_based': False}}\n"
     ]
    }
   ],
   "source": [
    "from surprise.model_selection import GridSearchCV\n",
    "\n",
    "sim_options = {\n",
    "    \"name\": [\"pearson\", \"cosine\"],\n",
    "    \"min_support\": [3, 4, 5],\n",
    "    \"user_based\": [False, True],\n",
    "}\n",
    "\n",
    "param_grid = {\"sim_options\": sim_options}\n",
    "\n",
    "jokes_gs = GridSearchCV(KNNWithMeans, param_grid, measures=[\"rmse\", \"mae\"], cv=3)\n",
    "\n",
    "jokes_gs.fit(data)\n",
    "print(jokes_gs.best_score[\"rmse\"])\n",
    "print(jokes_gs.best_params[\"rmse\"])"
   ]
  },
  {
   "cell_type": "code",
   "execution_count": 28,
   "metadata": {},
   "outputs": [
    {
     "data": {
      "text/plain": [
       "{'rmse': {'sim_options': {'name': 'cosine',\n",
       "   'min_support': 4,\n",
       "   'user_based': False}},\n",
       " 'mae': {'sim_options': {'name': 'cosine',\n",
       "   'min_support': 4,\n",
       "   'user_based': False}}}"
      ]
     },
     "execution_count": 28,
     "metadata": {},
     "output_type": "execute_result"
    }
   ],
   "source": [
    "jokes_gs.best_params"
   ]
  },
  {
   "cell_type": "code",
   "execution_count": null,
   "metadata": {},
   "outputs": [],
   "source": []
  }
 ],
 "metadata": {
  "colab": {
   "collapsed_sections": [],
   "machine_shape": "hm",
   "name": "20191012_Batch74_CSE7305c_Collaborative_Filtering.ipynb",
   "provenance": []
  },
  "kernelspec": {
   "display_name": "Python 3 (ipykernel)",
   "language": "python",
   "name": "python3"
  },
  "language_info": {
   "codemirror_mode": {
    "name": "ipython",
    "version": 3
   },
   "file_extension": ".py",
   "mimetype": "text/x-python",
   "name": "python",
   "nbconvert_exporter": "python",
   "pygments_lexer": "ipython3",
   "version": "3.9.7"
  }
 },
 "nbformat": 4,
 "nbformat_minor": 1
}
